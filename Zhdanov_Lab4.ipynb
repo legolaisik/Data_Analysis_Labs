{
  "nbformat": 4,
  "nbformat_minor": 0,
  "metadata": {
    "colab": {
      "provenance": []
    },
    "kernelspec": {
      "name": "python3",
      "display_name": "Python 3"
    },
    "language_info": {
      "name": "python"
    }
  },
  "cells": [
    {
      "cell_type": "markdown",
      "source": [
        "# Предварительный анализ данных\n",
        "Первым этапом проводится предварительная обработка данных, как в первой лабораторной работе."
      ],
      "metadata": {
        "id": "rhV33vd6JB5u"
      }
    },
    {
      "cell_type": "code",
      "execution_count": null,
      "metadata": {
        "id": "nHPMcyCYHAzN"
      },
      "outputs": [],
      "source": [
        "import pandas as pd"
      ]
    },
    {
      "cell_type": "code",
      "source": [
        "url = \"/content/drive/MyDrive/3cancer.csv\"\n",
        "df = pd.read_csv(url,encoding = \"utf-8\",sep=\",\")\n",
        "df.head(5)"
      ],
      "metadata": {
        "colab": {
          "base_uri": "https://localhost:8080/"
        },
        "id": "Bz9VLgc9uXub",
        "outputId": "e96e37d2-b741-4161-bca2-849de69546ee"
      },
      "execution_count": null,
      "outputs": [
        {
          "output_type": "execute_result",
          "data": {
            "text/plain": [
              "        id  clump_thickness  size_uniformity  shape_uniformity  \\\n",
              "0  1000025                5                1                 1   \n",
              "1  1002945                5                4                 4   \n",
              "2  1015425                3                1                 1   \n",
              "3  1016277                6                8                 8   \n",
              "4  1017023                4                1                 1   \n",
              "\n",
              "   marginal_adhesion  epithelial_size bare_nucleoli  bland_chromatin  \\\n",
              "0                  1                2             1                3   \n",
              "1                  5                7            10                3   \n",
              "2                  1                2             2                3   \n",
              "3                  1                3             4                3   \n",
              "4                  3                2             1                3   \n",
              "\n",
              "   normal_nucleoli  mitoses  class  \n",
              "0                1        1      2  \n",
              "1                2        1      2  \n",
              "2                1        1      2  \n",
              "3                7        1      2  \n",
              "4                1        1      2  "
            ],
            "text/html": [
              "\n",
              "  <div id=\"df-887bc9ae-7ecd-4790-98c1-26c249add368\">\n",
              "    <div class=\"colab-df-container\">\n",
              "      <div>\n",
              "<style scoped>\n",
              "    .dataframe tbody tr th:only-of-type {\n",
              "        vertical-align: middle;\n",
              "    }\n",
              "\n",
              "    .dataframe tbody tr th {\n",
              "        vertical-align: top;\n",
              "    }\n",
              "\n",
              "    .dataframe thead th {\n",
              "        text-align: right;\n",
              "    }\n",
              "</style>\n",
              "<table border=\"1\" class=\"dataframe\">\n",
              "  <thead>\n",
              "    <tr style=\"text-align: right;\">\n",
              "      <th></th>\n",
              "      <th>id</th>\n",
              "      <th>clump_thickness</th>\n",
              "      <th>size_uniformity</th>\n",
              "      <th>shape_uniformity</th>\n",
              "      <th>marginal_adhesion</th>\n",
              "      <th>epithelial_size</th>\n",
              "      <th>bare_nucleoli</th>\n",
              "      <th>bland_chromatin</th>\n",
              "      <th>normal_nucleoli</th>\n",
              "      <th>mitoses</th>\n",
              "      <th>class</th>\n",
              "    </tr>\n",
              "  </thead>\n",
              "  <tbody>\n",
              "    <tr>\n",
              "      <th>0</th>\n",
              "      <td>1000025</td>\n",
              "      <td>5</td>\n",
              "      <td>1</td>\n",
              "      <td>1</td>\n",
              "      <td>1</td>\n",
              "      <td>2</td>\n",
              "      <td>1</td>\n",
              "      <td>3</td>\n",
              "      <td>1</td>\n",
              "      <td>1</td>\n",
              "      <td>2</td>\n",
              "    </tr>\n",
              "    <tr>\n",
              "      <th>1</th>\n",
              "      <td>1002945</td>\n",
              "      <td>5</td>\n",
              "      <td>4</td>\n",
              "      <td>4</td>\n",
              "      <td>5</td>\n",
              "      <td>7</td>\n",
              "      <td>10</td>\n",
              "      <td>3</td>\n",
              "      <td>2</td>\n",
              "      <td>1</td>\n",
              "      <td>2</td>\n",
              "    </tr>\n",
              "    <tr>\n",
              "      <th>2</th>\n",
              "      <td>1015425</td>\n",
              "      <td>3</td>\n",
              "      <td>1</td>\n",
              "      <td>1</td>\n",
              "      <td>1</td>\n",
              "      <td>2</td>\n",
              "      <td>2</td>\n",
              "      <td>3</td>\n",
              "      <td>1</td>\n",
              "      <td>1</td>\n",
              "      <td>2</td>\n",
              "    </tr>\n",
              "    <tr>\n",
              "      <th>3</th>\n",
              "      <td>1016277</td>\n",
              "      <td>6</td>\n",
              "      <td>8</td>\n",
              "      <td>8</td>\n",
              "      <td>1</td>\n",
              "      <td>3</td>\n",
              "      <td>4</td>\n",
              "      <td>3</td>\n",
              "      <td>7</td>\n",
              "      <td>1</td>\n",
              "      <td>2</td>\n",
              "    </tr>\n",
              "    <tr>\n",
              "      <th>4</th>\n",
              "      <td>1017023</td>\n",
              "      <td>4</td>\n",
              "      <td>1</td>\n",
              "      <td>1</td>\n",
              "      <td>3</td>\n",
              "      <td>2</td>\n",
              "      <td>1</td>\n",
              "      <td>3</td>\n",
              "      <td>1</td>\n",
              "      <td>1</td>\n",
              "      <td>2</td>\n",
              "    </tr>\n",
              "  </tbody>\n",
              "</table>\n",
              "</div>\n",
              "      <button class=\"colab-df-convert\" onclick=\"convertToInteractive('df-887bc9ae-7ecd-4790-98c1-26c249add368')\"\n",
              "              title=\"Convert this dataframe to an interactive table.\"\n",
              "              style=\"display:none;\">\n",
              "        \n",
              "  <svg xmlns=\"http://www.w3.org/2000/svg\" height=\"24px\"viewBox=\"0 0 24 24\"\n",
              "       width=\"24px\">\n",
              "    <path d=\"M0 0h24v24H0V0z\" fill=\"none\"/>\n",
              "    <path d=\"M18.56 5.44l.94 2.06.94-2.06 2.06-.94-2.06-.94-.94-2.06-.94 2.06-2.06.94zm-11 1L8.5 8.5l.94-2.06 2.06-.94-2.06-.94L8.5 2.5l-.94 2.06-2.06.94zm10 10l.94 2.06.94-2.06 2.06-.94-2.06-.94-.94-2.06-.94 2.06-2.06.94z\"/><path d=\"M17.41 7.96l-1.37-1.37c-.4-.4-.92-.59-1.43-.59-.52 0-1.04.2-1.43.59L10.3 9.45l-7.72 7.72c-.78.78-.78 2.05 0 2.83L4 21.41c.39.39.9.59 1.41.59.51 0 1.02-.2 1.41-.59l7.78-7.78 2.81-2.81c.8-.78.8-2.07 0-2.86zM5.41 20L4 18.59l7.72-7.72 1.47 1.35L5.41 20z\"/>\n",
              "  </svg>\n",
              "      </button>\n",
              "      \n",
              "  <style>\n",
              "    .colab-df-container {\n",
              "      display:flex;\n",
              "      flex-wrap:wrap;\n",
              "      gap: 12px;\n",
              "    }\n",
              "\n",
              "    .colab-df-convert {\n",
              "      background-color: #E8F0FE;\n",
              "      border: none;\n",
              "      border-radius: 50%;\n",
              "      cursor: pointer;\n",
              "      display: none;\n",
              "      fill: #1967D2;\n",
              "      height: 32px;\n",
              "      padding: 0 0 0 0;\n",
              "      width: 32px;\n",
              "    }\n",
              "\n",
              "    .colab-df-convert:hover {\n",
              "      background-color: #E2EBFA;\n",
              "      box-shadow: 0px 1px 2px rgba(60, 64, 67, 0.3), 0px 1px 3px 1px rgba(60, 64, 67, 0.15);\n",
              "      fill: #174EA6;\n",
              "    }\n",
              "\n",
              "    [theme=dark] .colab-df-convert {\n",
              "      background-color: #3B4455;\n",
              "      fill: #D2E3FC;\n",
              "    }\n",
              "\n",
              "    [theme=dark] .colab-df-convert:hover {\n",
              "      background-color: #434B5C;\n",
              "      box-shadow: 0px 1px 3px 1px rgba(0, 0, 0, 0.15);\n",
              "      filter: drop-shadow(0px 1px 2px rgba(0, 0, 0, 0.3));\n",
              "      fill: #FFFFFF;\n",
              "    }\n",
              "  </style>\n",
              "\n",
              "      <script>\n",
              "        const buttonEl =\n",
              "          document.querySelector('#df-887bc9ae-7ecd-4790-98c1-26c249add368 button.colab-df-convert');\n",
              "        buttonEl.style.display =\n",
              "          google.colab.kernel.accessAllowed ? 'block' : 'none';\n",
              "\n",
              "        async function convertToInteractive(key) {\n",
              "          const element = document.querySelector('#df-887bc9ae-7ecd-4790-98c1-26c249add368');\n",
              "          const dataTable =\n",
              "            await google.colab.kernel.invokeFunction('convertToInteractive',\n",
              "                                                     [key], {});\n",
              "          if (!dataTable) return;\n",
              "\n",
              "          const docLinkHtml = 'Like what you see? Visit the ' +\n",
              "            '<a target=\"_blank\" href=https://colab.research.google.com/notebooks/data_table.ipynb>data table notebook</a>'\n",
              "            + ' to learn more about interactive tables.';\n",
              "          element.innerHTML = '';\n",
              "          dataTable['output_type'] = 'display_data';\n",
              "          await google.colab.output.renderOutput(dataTable, element);\n",
              "          const docLink = document.createElement('div');\n",
              "          docLink.innerHTML = docLinkHtml;\n",
              "          element.appendChild(docLink);\n",
              "        }\n",
              "      </script>\n",
              "    </div>\n",
              "  </div>\n",
              "  "
            ]
          },
          "metadata": {},
          "execution_count": 149
        }
      ]
    },
    {
      "cell_type": "code",
      "source": [
        "df.info()"
      ],
      "metadata": {
        "colab": {
          "base_uri": "https://localhost:8080/"
        },
        "id": "g1wqCBm2xl6o",
        "outputId": "1d594ac7-3c70-4fd0-89a8-82f4ff5391ea"
      },
      "execution_count": null,
      "outputs": [
        {
          "output_type": "stream",
          "name": "stdout",
          "text": [
            "<class 'pandas.core.frame.DataFrame'>\n",
            "RangeIndex: 699 entries, 0 to 698\n",
            "Data columns (total 11 columns):\n",
            " #   Column             Non-Null Count  Dtype \n",
            "---  ------             --------------  ----- \n",
            " 0   id                 699 non-null    int64 \n",
            " 1   clump_thickness    699 non-null    int64 \n",
            " 2   size_uniformity    699 non-null    int64 \n",
            " 3   shape_uniformity   699 non-null    int64 \n",
            " 4   marginal_adhesion  699 non-null    int64 \n",
            " 5   epithelial_size    699 non-null    int64 \n",
            " 6   bare_nucleoli      699 non-null    object\n",
            " 7   bland_chromatin    699 non-null    int64 \n",
            " 8   normal_nucleoli    699 non-null    int64 \n",
            " 9   mitoses            699 non-null    int64 \n",
            " 10  class              699 non-null    int64 \n",
            "dtypes: int64(10), object(1)\n",
            "memory usage: 60.2+ KB\n"
          ]
        }
      ]
    },
    {
      "cell_type": "code",
      "source": [
        "df.columns"
      ],
      "metadata": {
        "colab": {
          "base_uri": "https://localhost:8080/"
        },
        "id": "sLOOCg93xy7l",
        "outputId": "ddbe9230-ecfc-4058-db75-11cd007762e4"
      },
      "execution_count": null,
      "outputs": [
        {
          "output_type": "execute_result",
          "data": {
            "text/plain": [
              "Index(['id', 'clump_thickness', 'size_uniformity', 'shape_uniformity',\n",
              "       'marginal_adhesion', 'epithelial_size', 'bare_nucleoli',\n",
              "       'bland_chromatin', 'normal_nucleoli', 'mitoses', 'class'],\n",
              "      dtype='object')"
            ]
          },
          "metadata": {},
          "execution_count": 151
        }
      ]
    },
    {
      "cell_type": "markdown",
      "source": [
        "Из набора данных удаляются строки с пустыми значениями и дубликаты. Скрытых дубликатов в наборе не может быть, так как столбцы имеют числовое значение."
      ],
      "metadata": {
        "id": "ttCicVnGnZDY"
      }
    },
    {
      "cell_type": "code",
      "source": [
        "print(df.isna().sum())"
      ],
      "metadata": {
        "colab": {
          "base_uri": "https://localhost:8080/"
        },
        "id": "kXwKlk70x19E",
        "outputId": "ac139406-5777-4cde-dde8-ec0126d3af69"
      },
      "execution_count": null,
      "outputs": [
        {
          "output_type": "stream",
          "name": "stdout",
          "text": [
            "id                   0\n",
            "clump_thickness      0\n",
            "size_uniformity      0\n",
            "shape_uniformity     0\n",
            "marginal_adhesion    0\n",
            "epithelial_size      0\n",
            "bare_nucleoli        0\n",
            "bland_chromatin      0\n",
            "normal_nucleoli      0\n",
            "mitoses              0\n",
            "class                0\n",
            "dtype: int64\n"
          ]
        }
      ]
    },
    {
      "cell_type": "code",
      "source": [
        "df = df.drop_duplicates()"
      ],
      "metadata": {
        "id": "EonstLfRnoGE"
      },
      "execution_count": null,
      "outputs": []
    },
    {
      "cell_type": "markdown",
      "source": [
        "Столбец с значением голых ядер имеет тип object, поэтому его тип изменяется на int, предварительно выполнив метод to_numeric с значением \"coerce\" параметра \"errors\", чтобы заменить некорректные значения на NaN и удалить их при помощи метода dropna."
      ],
      "metadata": {
        "id": "8czgC8cqnyD4"
      }
    },
    {
      "cell_type": "code",
      "source": [
        "df[\"bare_nucleoli\"] = pd.to_numeric(df[\"bare_nucleoli\"], errors=\"coerce\")\n",
        "df = df.dropna(subset= [\"bare_nucleoli\"])\n",
        "df[\"bare_nucleoli\"] = df[\"bare_nucleoli\"].astype(int)"
      ],
      "metadata": {
        "id": "vZV_86PGejnG",
        "colab": {
          "base_uri": "https://localhost:8080/"
        },
        "outputId": "42ced2a7-0c34-4eff-87ab-05fd0ab9904d"
      },
      "execution_count": null,
      "outputs": [
        {
          "output_type": "stream",
          "name": "stderr",
          "text": [
            "/usr/local/lib/python3.7/dist-packages/ipykernel_launcher.py:1: SettingWithCopyWarning: \n",
            "A value is trying to be set on a copy of a slice from a DataFrame.\n",
            "Try using .loc[row_indexer,col_indexer] = value instead\n",
            "\n",
            "See the caveats in the documentation: https://pandas.pydata.org/pandas-docs/stable/user_guide/indexing.html#returning-a-view-versus-a-copy\n",
            "  \"\"\"Entry point for launching an IPython kernel.\n"
          ]
        }
      ]
    },
    {
      "cell_type": "code",
      "source": [
        "df.info()"
      ],
      "metadata": {
        "colab": {
          "base_uri": "https://localhost:8080/"
        },
        "id": "rT26vKMFsCxw",
        "outputId": "b9a3ae8e-363b-46d2-ec42-874932488ce6"
      },
      "execution_count": null,
      "outputs": [
        {
          "output_type": "stream",
          "name": "stdout",
          "text": [
            "<class 'pandas.core.frame.DataFrame'>\n",
            "Int64Index: 675 entries, 0 to 698\n",
            "Data columns (total 11 columns):\n",
            " #   Column             Non-Null Count  Dtype\n",
            "---  ------             --------------  -----\n",
            " 0   id                 675 non-null    int64\n",
            " 1   clump_thickness    675 non-null    int64\n",
            " 2   size_uniformity    675 non-null    int64\n",
            " 3   shape_uniformity   675 non-null    int64\n",
            " 4   marginal_adhesion  675 non-null    int64\n",
            " 5   epithelial_size    675 non-null    int64\n",
            " 6   bare_nucleoli      675 non-null    int64\n",
            " 7   bland_chromatin    675 non-null    int64\n",
            " 8   normal_nucleoli    675 non-null    int64\n",
            " 9   mitoses            675 non-null    int64\n",
            " 10  class              675 non-null    int64\n",
            "dtypes: int64(11)\n",
            "memory usage: 63.3 KB\n"
          ]
        }
      ]
    },
    {
      "cell_type": "markdown",
      "source": [
        "# Разработка предсказательной модели\n",
        "\n",
        "Вторым этапом выполняется создание предсказательных моделей, для этого сначала выполняется стандартизация набора данных с помощью импортируемого метода StandardScaler библиотеки sklearn. Так же выделяется целевой признак, в данном наборе это столбец class, указывающий злокачественная или доброкачественная опухоль. Так как это столбец принимает значения 2 и 4, приведем их к виду 0 и 1 для дальнейшего обучения предсказательных моделей."
      ],
      "metadata": {
        "id": "R-9MitkLd27m"
      }
    },
    {
      "cell_type": "code",
      "source": [
        "from sklearn.preprocessing import StandardScaler\n",
        "\n",
        "y = df[\"class\"].sub(2).div(2)\n",
        "\n",
        "scaler = StandardScaler()\n",
        "scaler.fit(df.drop(columns= [\"id\", \"class\"]))\n",
        "df_sc = scaler.transform(df.drop(columns= [\"id\", \"class\"]))\n",
        "df_sc = pd.DataFrame(df_sc)\n",
        "df_sc.head(10)"
      ],
      "metadata": {
        "id": "30DuZBgnNM2l",
        "colab": {
          "base_uri": "https://localhost:8080/",
          "height": 363
        },
        "outputId": "ad5bfedc-7221-42ba-9175-c08ee730e99a"
      },
      "execution_count": null,
      "outputs": [
        {
          "output_type": "execute_result",
          "data": {
            "text/plain": [
              "          0         1         2         3         4         5         6  \\\n",
              "0  0.194464 -0.703193 -0.742647 -0.643363 -0.557185 -0.698117 -0.180648   \n",
              "1  0.194464  0.279530  0.265978  0.748529  1.708477  1.777692 -0.180648   \n",
              "2 -0.515066 -0.703193 -0.742647 -0.643363 -0.557185 -0.423027 -0.180648   \n",
              "3  0.549228  1.589828  1.610811 -0.643363 -0.104053  0.127153 -0.180648   \n",
              "4 -0.160301 -0.703193 -0.742647  0.052583 -0.557185 -0.698117 -0.180648   \n",
              "5  1.258758  2.244977  2.283228  1.792448  1.708477  1.777692  2.266259   \n",
              "6 -1.224595 -0.703193 -0.742647 -0.643363 -0.557185  1.777692 -0.180648   \n",
              "7 -0.869831 -0.703193 -0.406439 -0.643363 -0.557185 -0.698117 -0.180648   \n",
              "8 -0.869831 -0.703193 -0.742647 -0.643363 -0.557185 -0.698117 -0.996284   \n",
              "9 -0.160301 -0.375619 -0.742647 -0.643363 -0.557185 -0.698117 -0.588466   \n",
              "\n",
              "          7         8  \n",
              "0 -0.615645 -0.349142  \n",
              "1 -0.289203 -0.349142  \n",
              "2 -0.615645 -0.349142  \n",
              "3  1.343005 -0.349142  \n",
              "4 -0.615645 -0.349142  \n",
              "5  1.343005 -0.349142  \n",
              "6 -0.615645 -0.349142  \n",
              "7 -0.615645 -0.349142  \n",
              "8 -0.615645  1.950084  \n",
              "9 -0.615645 -0.349142  "
            ],
            "text/html": [
              "\n",
              "  <div id=\"df-890fc641-7518-4d72-88b7-2fb6d9d41dda\">\n",
              "    <div class=\"colab-df-container\">\n",
              "      <div>\n",
              "<style scoped>\n",
              "    .dataframe tbody tr th:only-of-type {\n",
              "        vertical-align: middle;\n",
              "    }\n",
              "\n",
              "    .dataframe tbody tr th {\n",
              "        vertical-align: top;\n",
              "    }\n",
              "\n",
              "    .dataframe thead th {\n",
              "        text-align: right;\n",
              "    }\n",
              "</style>\n",
              "<table border=\"1\" class=\"dataframe\">\n",
              "  <thead>\n",
              "    <tr style=\"text-align: right;\">\n",
              "      <th></th>\n",
              "      <th>0</th>\n",
              "      <th>1</th>\n",
              "      <th>2</th>\n",
              "      <th>3</th>\n",
              "      <th>4</th>\n",
              "      <th>5</th>\n",
              "      <th>6</th>\n",
              "      <th>7</th>\n",
              "      <th>8</th>\n",
              "    </tr>\n",
              "  </thead>\n",
              "  <tbody>\n",
              "    <tr>\n",
              "      <th>0</th>\n",
              "      <td>0.194464</td>\n",
              "      <td>-0.703193</td>\n",
              "      <td>-0.742647</td>\n",
              "      <td>-0.643363</td>\n",
              "      <td>-0.557185</td>\n",
              "      <td>-0.698117</td>\n",
              "      <td>-0.180648</td>\n",
              "      <td>-0.615645</td>\n",
              "      <td>-0.349142</td>\n",
              "    </tr>\n",
              "    <tr>\n",
              "      <th>1</th>\n",
              "      <td>0.194464</td>\n",
              "      <td>0.279530</td>\n",
              "      <td>0.265978</td>\n",
              "      <td>0.748529</td>\n",
              "      <td>1.708477</td>\n",
              "      <td>1.777692</td>\n",
              "      <td>-0.180648</td>\n",
              "      <td>-0.289203</td>\n",
              "      <td>-0.349142</td>\n",
              "    </tr>\n",
              "    <tr>\n",
              "      <th>2</th>\n",
              "      <td>-0.515066</td>\n",
              "      <td>-0.703193</td>\n",
              "      <td>-0.742647</td>\n",
              "      <td>-0.643363</td>\n",
              "      <td>-0.557185</td>\n",
              "      <td>-0.423027</td>\n",
              "      <td>-0.180648</td>\n",
              "      <td>-0.615645</td>\n",
              "      <td>-0.349142</td>\n",
              "    </tr>\n",
              "    <tr>\n",
              "      <th>3</th>\n",
              "      <td>0.549228</td>\n",
              "      <td>1.589828</td>\n",
              "      <td>1.610811</td>\n",
              "      <td>-0.643363</td>\n",
              "      <td>-0.104053</td>\n",
              "      <td>0.127153</td>\n",
              "      <td>-0.180648</td>\n",
              "      <td>1.343005</td>\n",
              "      <td>-0.349142</td>\n",
              "    </tr>\n",
              "    <tr>\n",
              "      <th>4</th>\n",
              "      <td>-0.160301</td>\n",
              "      <td>-0.703193</td>\n",
              "      <td>-0.742647</td>\n",
              "      <td>0.052583</td>\n",
              "      <td>-0.557185</td>\n",
              "      <td>-0.698117</td>\n",
              "      <td>-0.180648</td>\n",
              "      <td>-0.615645</td>\n",
              "      <td>-0.349142</td>\n",
              "    </tr>\n",
              "    <tr>\n",
              "      <th>5</th>\n",
              "      <td>1.258758</td>\n",
              "      <td>2.244977</td>\n",
              "      <td>2.283228</td>\n",
              "      <td>1.792448</td>\n",
              "      <td>1.708477</td>\n",
              "      <td>1.777692</td>\n",
              "      <td>2.266259</td>\n",
              "      <td>1.343005</td>\n",
              "      <td>-0.349142</td>\n",
              "    </tr>\n",
              "    <tr>\n",
              "      <th>6</th>\n",
              "      <td>-1.224595</td>\n",
              "      <td>-0.703193</td>\n",
              "      <td>-0.742647</td>\n",
              "      <td>-0.643363</td>\n",
              "      <td>-0.557185</td>\n",
              "      <td>1.777692</td>\n",
              "      <td>-0.180648</td>\n",
              "      <td>-0.615645</td>\n",
              "      <td>-0.349142</td>\n",
              "    </tr>\n",
              "    <tr>\n",
              "      <th>7</th>\n",
              "      <td>-0.869831</td>\n",
              "      <td>-0.703193</td>\n",
              "      <td>-0.406439</td>\n",
              "      <td>-0.643363</td>\n",
              "      <td>-0.557185</td>\n",
              "      <td>-0.698117</td>\n",
              "      <td>-0.180648</td>\n",
              "      <td>-0.615645</td>\n",
              "      <td>-0.349142</td>\n",
              "    </tr>\n",
              "    <tr>\n",
              "      <th>8</th>\n",
              "      <td>-0.869831</td>\n",
              "      <td>-0.703193</td>\n",
              "      <td>-0.742647</td>\n",
              "      <td>-0.643363</td>\n",
              "      <td>-0.557185</td>\n",
              "      <td>-0.698117</td>\n",
              "      <td>-0.996284</td>\n",
              "      <td>-0.615645</td>\n",
              "      <td>1.950084</td>\n",
              "    </tr>\n",
              "    <tr>\n",
              "      <th>9</th>\n",
              "      <td>-0.160301</td>\n",
              "      <td>-0.375619</td>\n",
              "      <td>-0.742647</td>\n",
              "      <td>-0.643363</td>\n",
              "      <td>-0.557185</td>\n",
              "      <td>-0.698117</td>\n",
              "      <td>-0.588466</td>\n",
              "      <td>-0.615645</td>\n",
              "      <td>-0.349142</td>\n",
              "    </tr>\n",
              "  </tbody>\n",
              "</table>\n",
              "</div>\n",
              "      <button class=\"colab-df-convert\" onclick=\"convertToInteractive('df-890fc641-7518-4d72-88b7-2fb6d9d41dda')\"\n",
              "              title=\"Convert this dataframe to an interactive table.\"\n",
              "              style=\"display:none;\">\n",
              "        \n",
              "  <svg xmlns=\"http://www.w3.org/2000/svg\" height=\"24px\"viewBox=\"0 0 24 24\"\n",
              "       width=\"24px\">\n",
              "    <path d=\"M0 0h24v24H0V0z\" fill=\"none\"/>\n",
              "    <path d=\"M18.56 5.44l.94 2.06.94-2.06 2.06-.94-2.06-.94-.94-2.06-.94 2.06-2.06.94zm-11 1L8.5 8.5l.94-2.06 2.06-.94-2.06-.94L8.5 2.5l-.94 2.06-2.06.94zm10 10l.94 2.06.94-2.06 2.06-.94-2.06-.94-.94-2.06-.94 2.06-2.06.94z\"/><path d=\"M17.41 7.96l-1.37-1.37c-.4-.4-.92-.59-1.43-.59-.52 0-1.04.2-1.43.59L10.3 9.45l-7.72 7.72c-.78.78-.78 2.05 0 2.83L4 21.41c.39.39.9.59 1.41.59.51 0 1.02-.2 1.41-.59l7.78-7.78 2.81-2.81c.8-.78.8-2.07 0-2.86zM5.41 20L4 18.59l7.72-7.72 1.47 1.35L5.41 20z\"/>\n",
              "  </svg>\n",
              "      </button>\n",
              "      \n",
              "  <style>\n",
              "    .colab-df-container {\n",
              "      display:flex;\n",
              "      flex-wrap:wrap;\n",
              "      gap: 12px;\n",
              "    }\n",
              "\n",
              "    .colab-df-convert {\n",
              "      background-color: #E8F0FE;\n",
              "      border: none;\n",
              "      border-radius: 50%;\n",
              "      cursor: pointer;\n",
              "      display: none;\n",
              "      fill: #1967D2;\n",
              "      height: 32px;\n",
              "      padding: 0 0 0 0;\n",
              "      width: 32px;\n",
              "    }\n",
              "\n",
              "    .colab-df-convert:hover {\n",
              "      background-color: #E2EBFA;\n",
              "      box-shadow: 0px 1px 2px rgba(60, 64, 67, 0.3), 0px 1px 3px 1px rgba(60, 64, 67, 0.15);\n",
              "      fill: #174EA6;\n",
              "    }\n",
              "\n",
              "    [theme=dark] .colab-df-convert {\n",
              "      background-color: #3B4455;\n",
              "      fill: #D2E3FC;\n",
              "    }\n",
              "\n",
              "    [theme=dark] .colab-df-convert:hover {\n",
              "      background-color: #434B5C;\n",
              "      box-shadow: 0px 1px 3px 1px rgba(0, 0, 0, 0.15);\n",
              "      filter: drop-shadow(0px 1px 2px rgba(0, 0, 0, 0.3));\n",
              "      fill: #FFFFFF;\n",
              "    }\n",
              "  </style>\n",
              "\n",
              "      <script>\n",
              "        const buttonEl =\n",
              "          document.querySelector('#df-890fc641-7518-4d72-88b7-2fb6d9d41dda button.colab-df-convert');\n",
              "        buttonEl.style.display =\n",
              "          google.colab.kernel.accessAllowed ? 'block' : 'none';\n",
              "\n",
              "        async function convertToInteractive(key) {\n",
              "          const element = document.querySelector('#df-890fc641-7518-4d72-88b7-2fb6d9d41dda');\n",
              "          const dataTable =\n",
              "            await google.colab.kernel.invokeFunction('convertToInteractive',\n",
              "                                                     [key], {});\n",
              "          if (!dataTable) return;\n",
              "\n",
              "          const docLinkHtml = 'Like what you see? Visit the ' +\n",
              "            '<a target=\"_blank\" href=https://colab.research.google.com/notebooks/data_table.ipynb>data table notebook</a>'\n",
              "            + ' to learn more about interactive tables.';\n",
              "          element.innerHTML = '';\n",
              "          dataTable['output_type'] = 'display_data';\n",
              "          await google.colab.output.renderOutput(dataTable, element);\n",
              "          const docLink = document.createElement('div');\n",
              "          docLink.innerHTML = docLinkHtml;\n",
              "          element.appendChild(docLink);\n",
              "        }\n",
              "      </script>\n",
              "    </div>\n",
              "  </div>\n",
              "  "
            ]
          },
          "metadata": {},
          "execution_count": 156
        }
      ]
    },
    {
      "cell_type": "markdown",
      "source": [
        "Разделяем набор данных на обучающую и тестовую выборку с помощью метода train_test_split. Тестовая выборка составит 20% от всего набора данных"
      ],
      "metadata": {
        "id": "NEfeOL6RJ8M0"
      }
    },
    {
      "cell_type": "code",
      "source": [
        "from sklearn.model_selection import train_test_split\n",
        "x_train, x_test, y_train, y_test = train_test_split(df_sc, y, test_size = 0.2)"
      ],
      "metadata": {
        "id": "30f3AvOyJ--E"
      },
      "execution_count": null,
      "outputs": []
    },
    {
      "cell_type": "markdown",
      "source": [
        "Сторим модель предсказания методом k-ближайших соседей с помощью метода KNeighborsClassifier, которую обучаем при помощи метода fit на обучающем наборе данных, передавая их в качестве параметра. Затем получаем предсказания с помощью построенной модели методом predict передавая тестовый набор в качестве параметра. Значения параметра количества ближайших соседей передано 25, это значение было выбрано в ходе нескольких тестов, перепробовав значения от 5 до 40 с шагом в 5."
      ],
      "metadata": {
        "id": "dMI9DEdz4X9F"
      }
    },
    {
      "cell_type": "code",
      "source": [
        "from sklearn.neighbors import KNeighborsClassifier\n",
        "\n",
        "kneighbors_model = KNeighborsClassifier(n_neighbors=20)\n",
        "kneighbors_model.fit(x_train, y_train)\n",
        "kneighbors_predicts = kneighbors_model.predict(x_test)"
      ],
      "metadata": {
        "id": "Xm-h96crbS3B"
      },
      "execution_count": null,
      "outputs": []
    },
    {
      "cell_type": "markdown",
      "source": [
        "Сторим модель предсказания методом случайного леса с помощью метода RandomForestClassifier, которую обучаем при помощи метода fit на обучающем наборе данных, передавая их в качестве параметра. Затем получаем предсказания с помощью построенной модели методом predict передавая тестовый набор в качестве параметра. Значения параметра количества слуайных деревьев передано 100, это значение было выбрано в ходе нескольких тестов, перепробовав значения от 80 до 120 с шагом в 5."
      ],
      "metadata": {
        "id": "CFkX6YW96d30"
      }
    },
    {
      "cell_type": "code",
      "source": [
        "from sklearn.ensemble import RandomForestClassifier\n",
        "\n",
        "tree_model = RandomForestClassifier(n_estimators=100)\n",
        "tree_model.fit(x_train, y_train)\n",
        "tree_predicts = tree_model.predict(x_test)"
      ],
      "metadata": {
        "id": "vcFsZIKM1FbH"
      },
      "execution_count": null,
      "outputs": []
    },
    {
      "cell_type": "markdown",
      "source": [
        "Сторим модель предсказания методом логистической регрессии с помощью метода LogisticRegression, которую обучаем при помощи метода fit на обучающем наборе данных, передавая их в качестве параметра. Затем получаем предсказания с помощью построенной модели методом predict передавая тестовый набор в качестве параметра."
      ],
      "metadata": {
        "id": "ZnLa0DDn6puf"
      }
    },
    {
      "cell_type": "code",
      "source": [
        "from sklearn.linear_model import LogisticRegression\n",
        "\n",
        "logistic_model = LogisticRegression()\n",
        "logistic_model.fit(x_train, y_train)\n",
        "logistic_predicts = logistic_model.predict(x_test)"
      ],
      "metadata": {
        "id": "VSaAg176bjf4"
      },
      "execution_count": null,
      "outputs": []
    },
    {
      "cell_type": "markdown",
      "source": [
        "Затем для полученных моделей высчитываются метрики: доля правильных ответов - методом accuracy_score, точность - precision_score, полнота - recall_score, f1_score, матрица ошибок - confusion_matrix."
      ],
      "metadata": {
        "id": "xQgooHaV642x"
      }
    },
    {
      "cell_type": "code",
      "source": [
        "from sklearn.metrics import accuracy_score, precision_score, recall_score, f1_score, confusion_matrix\n",
        "\n",
        "def test_model(predicts, model, label_name):\n",
        "    print(label_name)\n",
        "    print(\"Accuracy - \", accuracy_score(y_test, predicts))\n",
        "    print(\"Precision - \", precision_score(y_test, predicts))\n",
        "    print(\"Recall - \", recall_score(y_test, predicts))\n",
        "    print(\"F1-metric - \", f1_score(y_test, predicts))\n",
        "    print(\"Confusion matrix - \\n\", confusion_matrix(y_test, predicts))\n",
        "\n",
        "test_model(kneighbors_predicts, kneighbors_model, \"K-nearest\")\n",
        "test_model(tree_predicts, tree_model, \"Random Tree\")\n",
        "test_model(logistic_predicts, logistic_model, \"Logistic\")"
      ],
      "metadata": {
        "colab": {
          "base_uri": "https://localhost:8080/"
        },
        "id": "_kyo1pPqbZp6",
        "outputId": "43461720-3e4f-4923-91cc-4a87d25bd14d"
      },
      "execution_count": null,
      "outputs": [
        {
          "output_type": "stream",
          "name": "stdout",
          "text": [
            "K-nearest\n",
            "Accuracy -  0.9777777777777777\n",
            "Precision -  0.926829268292683\n",
            "Recall -  1.0\n",
            "F1-metric -  0.9620253164556963\n",
            "Confusion matrix - \n",
            " [[94  3]\n",
            " [ 0 38]]\n",
            "Random Tree\n",
            "Accuracy -  0.9777777777777777\n",
            "Precision -  0.926829268292683\n",
            "Recall -  1.0\n",
            "F1-metric -  0.9620253164556963\n",
            "Confusion matrix - \n",
            " [[94  3]\n",
            " [ 0 38]]\n",
            "Logistic\n",
            "Accuracy -  0.9851851851851852\n",
            "Precision -  0.95\n",
            "Recall -  1.0\n",
            "F1-metric -  0.9743589743589743\n",
            "Confusion matrix - \n",
            " [[95  2]\n",
            " [ 0 38]]\n"
          ]
        }
      ]
    },
    {
      "cell_type": "markdown",
      "source": [
        "Из выведенных данных видно, что модель случайных деревьев справляется с предсказанием чуть лучше остальных моделей. При этом все три модели имеют значение больше 0.9, что говорит о хорошей точности предсказаний этих моделей."
      ],
      "metadata": {
        "id": "Z8Tqr2sl-Dvm"
      }
    },
    {
      "cell_type": "markdown",
      "source": [
        "Затем вычисляется метрика ROC-кривая для моделей с помощью метода roc_curve, в качестве параметра передается тестовый набор ответов и вектор вероятностей правильных предсказаний модели. Затем полученная кривая выводится на график для визуализации."
      ],
      "metadata": {
        "id": "yZljI_po-moj"
      }
    },
    {
      "cell_type": "code",
      "source": [
        "from sklearn.metrics import roc_auc_score, roc_curve\n",
        "import matplotlib.pyplot as plt\n",
        "\n",
        "fpr_K, tpr_K, thresholds_K = roc_curve(y_test, kneighbors_model.predict_proba(x_test)[:,1], pos_label=1)\n",
        "fpr_T, tpr_T, thresholds_T = roc_curve(y_test, tree_model.predict_proba(x_test)[:,1], pos_label=1)\n",
        "fpr_L, tpr_L, thresholds_L = roc_curve(y_test, logistic_model.predict_proba(x_test)[:,1], pos_label=1)\n",
        "plt.plot(fpr_K, tpr_K,label = \"K-nearest\")\n",
        "plt.plot(fpr_T, tpr_T,label = \"RandomTree\")\n",
        "plt.plot(fpr_L, tpr_L,label = \"Regression\")\n",
        "plt.xlabel('False Positive Rate')\n",
        "plt.ylabel('True Positive Rate')\n",
        "plt.legend()\n",
        "plt.title('ROC curve')\n",
        "plt.show"
      ],
      "metadata": {
        "colab": {
          "base_uri": "https://localhost:8080/",
          "height": 312
        },
        "id": "vBCs8kVHboTh",
        "outputId": "7903fbce-eea9-4259-fe1a-bbe6d7a1e7f5"
      },
      "execution_count": null,
      "outputs": [
        {
          "output_type": "execute_result",
          "data": {
            "text/plain": [
              "<function matplotlib.pyplot.show(*args, **kw)>"
            ]
          },
          "metadata": {},
          "execution_count": 162
        },
        {
          "output_type": "display_data",
          "data": {
            "text/plain": [
              "<Figure size 432x288 with 1 Axes>"
            ],
            "image/png": "[encoded data removed]"
          },
          "metadata": {
            "needs_background": "light"
          }
        }
      ]
    },
    {
      "cell_type": "markdown",
      "source": [
        "Из графика видно, что все модели имеют достаточно хорошую точность предсказаний. Это может быть связано с небольшим размером набора данных и сильной связью между признаками и целевым показателем."
      ],
      "metadata": {
        "id": "S-MrgvH5_WvW"
      }
    },
    {
      "cell_type": "markdown",
      "source": [
        "В результате работы было создано три модели предсказания: методом k-ближайших соседей, методом случайных деревьев и методом логистической регрессии. Все три модели имеют хорошее качество предсказания, так как у всех вероятность правильного предсказания была выше 90%. Это говорит о том, что эти методы хорошо подходят для задачи предсказания качества опухоли, по тем признакам, что указаны в наборе данных."
      ],
      "metadata": {
        "id": "mZROS20LAT0J"
      }
    },
    {
      "cell_type": "markdown",
      "source": [
        "# Дополнительное задание\n",
        "Проверяем сбалансированность наших данных, подсчитывая количество записей для каждого класса по целевому признаку с помощью метода value_counts."
      ],
      "metadata": {
        "id": "z_E4n3tBwjet"
      }
    },
    {
      "cell_type": "code",
      "source": [
        "v_c = df[\"class\"].value_counts()\n",
        "v_c"
      ],
      "metadata": {
        "colab": {
          "base_uri": "https://localhost:8080/"
        },
        "id": "QqG9TQcfQ9eO",
        "outputId": "3662514a-d99b-4e07-88f5-3648ddebb9a4"
      },
      "execution_count": null,
      "outputs": [
        {
          "output_type": "execute_result",
          "data": {
            "text/plain": [
              "2    439\n",
              "4    236\n",
              "Name: class, dtype: int64"
            ]
          },
          "metadata": {},
          "execution_count": 163
        }
      ]
    },
    {
      "cell_type": "markdown",
      "source": [
        "Из выведенных результатов видно, что набор данных не сбалансирован и данных для доброкачественных опухолей примерно в два раза больше, чем для злокачественных."
      ],
      "metadata": {
        "id": "1jUtp23YX_gM"
      }
    },
    {
      "cell_type": "markdown",
      "source": [
        "Чтобы сбалансировать данные, продублируем записи с злокачественными опухолями. Для этого выделим из набора данных выборку только с злокачественными опухолями, затем продублируем эту выборку необходимое количество раз с помощью метода repeat. Так как этот метод дублирует данные четное количество раз, добавим к этому набору недостающие количество записей. Получив набор данных с злокаественными опухолями равный набору с доброкачественными, перемешаем их между собой."
      ],
      "metadata": {
        "id": "4V3fL6trYa2J"
      }
    },
    {
      "cell_type": "code",
      "source": [
        "k = v_c[2]-v_c[4]\n",
        "df_1 = df.loc[df[\"class\"] == 4]\n",
        "df_1_n = df_1.loc[df_1.index.repeat(v_c[2]/v_c[4])]\n",
        "df_1_k = pd.concat([df_1[0:k], df_1_n]).sample(frac=1)\n",
        "df_b = pd.concat([df.loc[df['class']==2], df_1_k]).sample(frac=1)\n",
        "df_b[\"class\"].value_counts()"
      ],
      "metadata": {
        "colab": {
          "base_uri": "https://localhost:8080/"
        },
        "id": "aKmAE8_rSh8d",
        "outputId": "e4053ae7-eb08-4022-c0d8-eceb2196f0c7"
      },
      "execution_count": null,
      "outputs": [
        {
          "output_type": "execute_result",
          "data": {
            "text/plain": [
              "4    439\n",
              "2    439\n",
              "Name: class, dtype: int64"
            ]
          },
          "metadata": {},
          "execution_count": 167
        }
      ]
    }
  ]
}