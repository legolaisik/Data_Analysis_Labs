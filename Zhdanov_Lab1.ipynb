{
  "nbformat": 4,
  "nbformat_minor": 0,
  "metadata": {
    "colab": {
      "provenance": []
    },
    "kernelspec": {
      "name": "python3",
      "display_name": "Python 3"
    },
    "language_info": {
      "name": "python"
    }
  },
  "cells": [
    {
      "cell_type": "markdown",
      "source": [
        "# Предобработка данных"
      ],
      "metadata": {
        "id": "rhV33vd6JB5u"
      }
    },
    {
      "cell_type": "markdown",
      "source": [
        "Импортируем библиотеку pandas для работы с набором данных"
      ],
      "metadata": {
        "id": "BgNY6HEguL1l"
      }
    },
    {
      "cell_type": "code",
      "execution_count": null,
      "metadata": {
        "id": "nHPMcyCYHAzN"
      },
      "outputs": [],
      "source": [
        "import pandas as pd"
      ]
    },
    {
      "cell_type": "markdown",
      "source": [
        "Используя метод read_csv, загружаем набор данных из файла. В качестве параметров метода передаём путь к файлу, \"encoding\"(кодировка),в данном случае используется кодировка utf-8, и \"sep\"(разделительный символ), в предоставленном наборе применяется запятая. После загрузки при помощи метода head выводим первые 20 записей."
      ],
      "metadata": {
        "id": "nEmSIyhyuVgA"
      }
    },
    {
      "cell_type": "code",
      "source": [
        "url = \"/content/drive/MyDrive/3heart.csv\"\n",
        "df = pd.read_csv(url,encoding = \"utf-8\",sep=\",\")\n",
        "df.head(20)"
      ],
      "metadata": {
        "colab": {
          "base_uri": "https://localhost:8080/",
          "height": 676
        },
        "id": "Bz9VLgc9uXub",
        "outputId": "5fe3bc72-48c3-4da8-9f47-1ebaf6755037"
      },
      "execution_count": null,
      "outputs": [
        {
          "output_type": "execute_result",
          "data": {
            "text/plain": [
              "    Age Sex ChestPainType  RestingBP Cholesterol  FastingBS RestingECG  MaxHR  \\\n",
              "0    40   M           ATA      140.0         289          0     Normal  172.0   \n",
              "1    49   F           NAP      160.0         180          0     Normal  156.0   \n",
              "2    37   M           ATA      130.0         283          0         ST   98.0   \n",
              "3    48   F           ASY      138.0         214          0     Normal  108.0   \n",
              "4    54   M           NAP      150.0         195          0     Normal  122.0   \n",
              "5    39   M           NAP      120.0         339          0     Normal  170.0   \n",
              "6    45   F           ATA      130.0         237          0     Normal  170.0   \n",
              "7    54   M           ATA      110.0         208          0     Normal  142.0   \n",
              "8    37   M           ASY      140.0         207          0     Normal  130.0   \n",
              "9    48   F           ATA      120.0         284          0     Normal  120.0   \n",
              "10   37   F           NAP      130.0         211          0     Normal  142.0   \n",
              "11   58   M           ATA      136.0         164          0         ST   99.0   \n",
              "12   39   M           ATA      120.0         204          0     Normal  145.0   \n",
              "13   49   M           ASY      140.0         234          0     Normal  140.0   \n",
              "14   42   F           NAP      115.0         211          0         ST  137.0   \n",
              "15   54   F           ATA      120.0         273          0     Normal  150.0   \n",
              "16   38   M           ASY      110.0         196          0     Normal  166.0   \n",
              "17   43   F           ATA        NaN         NaN          0     Normal  165.0   \n",
              "18   60   M           ASY      100.0         248          0     Normal  125.0   \n",
              "19   36   M           ATA      120.0         267          0     Normal  160.0   \n",
              "\n",
              "   ExerciseAngina  Oldpeak ST_Slope  HeartDisease  \n",
              "0               N      0.0       Up             0  \n",
              "1               N      1.0     Flat             1  \n",
              "2               N      0.0       Up             0  \n",
              "3               Y      1.5     Flat             1  \n",
              "4               N      0.0       Up             0  \n",
              "5               N      0.0       Up             0  \n",
              "6               N      0.0       Up             0  \n",
              "7               N      0.0       Up             0  \n",
              "8               Y      1.5     Flat             1  \n",
              "9               N      0.0       Up             0  \n",
              "10              N      0.0       Up             0  \n",
              "11              Y      2.0     Flat             1  \n",
              "12              N      0.0       Up             0  \n",
              "13              Y      1.0     Flat             1  \n",
              "14              N      0.0       Up             0  \n",
              "15              N      1.5     Flat             0  \n",
              "16              N      0.0     Flat             1  \n",
              "17              N      0.0       Up             0  \n",
              "18              N      1.0     Flat             1  \n",
              "19              N      3.0     Flat             1  "
            ],
            "text/html": [
              "\n",
              "  <div id=\"df-461d36c4-aba7-4f88-944a-40e68122ae8c\">\n",
              "    <div class=\"colab-df-container\">\n",
              "      <div>\n",
              "<style scoped>\n",
              "    .dataframe tbody tr th:only-of-type {\n",
              "        vertical-align: middle;\n",
              "    }\n",
              "\n",
              "    .dataframe tbody tr th {\n",
              "        vertical-align: top;\n",
              "    }\n",
              "\n",
              "    .dataframe thead th {\n",
              "        text-align: right;\n",
              "    }\n",
              "</style>\n",
              "<table border=\"1\" class=\"dataframe\">\n",
              "  <thead>\n",
              "    <tr style=\"text-align: right;\">\n",
              "      <th></th>\n",
              "      <th>Age</th>\n",
              "      <th>Sex</th>\n",
              "      <th>ChestPainType</th>\n",
              "      <th>RestingBP</th>\n",
              "      <th>Cholesterol</th>\n",
              "      <th>FastingBS</th>\n",
              "      <th>RestingECG</th>\n",
              "      <th>MaxHR</th>\n",
              "      <th>ExerciseAngina</th>\n",
              "      <th>Oldpeak</th>\n",
              "      <th>ST_Slope</th>\n",
              "      <th>HeartDisease</th>\n",
              "    </tr>\n",
              "  </thead>\n",
              "  <tbody>\n",
              "    <tr>\n",
              "      <th>0</th>\n",
              "      <td>40</td>\n",
              "      <td>M</td>\n",
              "      <td>ATA</td>\n",
              "      <td>140.0</td>\n",
              "      <td>289</td>\n",
              "      <td>0</td>\n",
              "      <td>Normal</td>\n",
              "      <td>172.0</td>\n",
              "      <td>N</td>\n",
              "      <td>0.0</td>\n",
              "      <td>Up</td>\n",
              "      <td>0</td>\n",
              "    </tr>\n",
              "    <tr>\n",
              "      <th>1</th>\n",
              "      <td>49</td>\n",
              "      <td>F</td>\n",
              "      <td>NAP</td>\n",
              "      <td>160.0</td>\n",
              "      <td>180</td>\n",
              "      <td>0</td>\n",
              "      <td>Normal</td>\n",
              "      <td>156.0</td>\n",
              "      <td>N</td>\n",
              "      <td>1.0</td>\n",
              "      <td>Flat</td>\n",
              "      <td>1</td>\n",
              "    </tr>\n",
              "    <tr>\n",
              "      <th>2</th>\n",
              "      <td>37</td>\n",
              "      <td>M</td>\n",
              "      <td>ATA</td>\n",
              "      <td>130.0</td>\n",
              "      <td>283</td>\n",
              "      <td>0</td>\n",
              "      <td>ST</td>\n",
              "      <td>98.0</td>\n",
              "      <td>N</td>\n",
              "      <td>0.0</td>\n",
              "      <td>Up</td>\n",
              "      <td>0</td>\n",
              "    </tr>\n",
              "    <tr>\n",
              "      <th>3</th>\n",
              "      <td>48</td>\n",
              "      <td>F</td>\n",
              "      <td>ASY</td>\n",
              "      <td>138.0</td>\n",
              "      <td>214</td>\n",
              "      <td>0</td>\n",
              "      <td>Normal</td>\n",
              "      <td>108.0</td>\n",
              "      <td>Y</td>\n",
              "      <td>1.5</td>\n",
              "      <td>Flat</td>\n",
              "      <td>1</td>\n",
              "    </tr>\n",
              "    <tr>\n",
              "      <th>4</th>\n",
              "      <td>54</td>\n",
              "      <td>M</td>\n",
              "      <td>NAP</td>\n",
              "      <td>150.0</td>\n",
              "      <td>195</td>\n",
              "      <td>0</td>\n",
              "      <td>Normal</td>\n",
              "      <td>122.0</td>\n",
              "      <td>N</td>\n",
              "      <td>0.0</td>\n",
              "      <td>Up</td>\n",
              "      <td>0</td>\n",
              "    </tr>\n",
              "    <tr>\n",
              "      <th>5</th>\n",
              "      <td>39</td>\n",
              "      <td>M</td>\n",
              "      <td>NAP</td>\n",
              "      <td>120.0</td>\n",
              "      <td>339</td>\n",
              "      <td>0</td>\n",
              "      <td>Normal</td>\n",
              "      <td>170.0</td>\n",
              "      <td>N</td>\n",
              "      <td>0.0</td>\n",
              "      <td>Up</td>\n",
              "      <td>0</td>\n",
              "    </tr>\n",
              "    <tr>\n",
              "      <th>6</th>\n",
              "      <td>45</td>\n",
              "      <td>F</td>\n",
              "      <td>ATA</td>\n",
              "      <td>130.0</td>\n",
              "      <td>237</td>\n",
              "      <td>0</td>\n",
              "      <td>Normal</td>\n",
              "      <td>170.0</td>\n",
              "      <td>N</td>\n",
              "      <td>0.0</td>\n",
              "      <td>Up</td>\n",
              "      <td>0</td>\n",
              "    </tr>\n",
              "    <tr>\n",
              "      <th>7</th>\n",
              "      <td>54</td>\n",
              "      <td>M</td>\n",
              "      <td>ATA</td>\n",
              "      <td>110.0</td>\n",
              "      <td>208</td>\n",
              "      <td>0</td>\n",
              "      <td>Normal</td>\n",
              "      <td>142.0</td>\n",
              "      <td>N</td>\n",
              "      <td>0.0</td>\n",
              "      <td>Up</td>\n",
              "      <td>0</td>\n",
              "    </tr>\n",
              "    <tr>\n",
              "      <th>8</th>\n",
              "      <td>37</td>\n",
              "      <td>M</td>\n",
              "      <td>ASY</td>\n",
              "      <td>140.0</td>\n",
              "      <td>207</td>\n",
              "      <td>0</td>\n",
              "      <td>Normal</td>\n",
              "      <td>130.0</td>\n",
              "      <td>Y</td>\n",
              "      <td>1.5</td>\n",
              "      <td>Flat</td>\n",
              "      <td>1</td>\n",
              "    </tr>\n",
              "    <tr>\n",
              "      <th>9</th>\n",
              "      <td>48</td>\n",
              "      <td>F</td>\n",
              "      <td>ATA</td>\n",
              "      <td>120.0</td>\n",
              "      <td>284</td>\n",
              "      <td>0</td>\n",
              "      <td>Normal</td>\n",
              "      <td>120.0</td>\n",
              "      <td>N</td>\n",
              "      <td>0.0</td>\n",
              "      <td>Up</td>\n",
              "      <td>0</td>\n",
              "    </tr>\n",
              "    <tr>\n",
              "      <th>10</th>\n",
              "      <td>37</td>\n",
              "      <td>F</td>\n",
              "      <td>NAP</td>\n",
              "      <td>130.0</td>\n",
              "      <td>211</td>\n",
              "      <td>0</td>\n",
              "      <td>Normal</td>\n",
              "      <td>142.0</td>\n",
              "      <td>N</td>\n",
              "      <td>0.0</td>\n",
              "      <td>Up</td>\n",
              "      <td>0</td>\n",
              "    </tr>\n",
              "    <tr>\n",
              "      <th>11</th>\n",
              "      <td>58</td>\n",
              "      <td>M</td>\n",
              "      <td>ATA</td>\n",
              "      <td>136.0</td>\n",
              "      <td>164</td>\n",
              "      <td>0</td>\n",
              "      <td>ST</td>\n",
              "      <td>99.0</td>\n",
              "      <td>Y</td>\n",
              "      <td>2.0</td>\n",
              "      <td>Flat</td>\n",
              "      <td>1</td>\n",
              "    </tr>\n",
              "    <tr>\n",
              "      <th>12</th>\n",
              "      <td>39</td>\n",
              "      <td>M</td>\n",
              "      <td>ATA</td>\n",
              "      <td>120.0</td>\n",
              "      <td>204</td>\n",
              "      <td>0</td>\n",
              "      <td>Normal</td>\n",
              "      <td>145.0</td>\n",
              "      <td>N</td>\n",
              "      <td>0.0</td>\n",
              "      <td>Up</td>\n",
              "      <td>0</td>\n",
              "    </tr>\n",
              "    <tr>\n",
              "      <th>13</th>\n",
              "      <td>49</td>\n",
              "      <td>M</td>\n",
              "      <td>ASY</td>\n",
              "      <td>140.0</td>\n",
              "      <td>234</td>\n",
              "      <td>0</td>\n",
              "      <td>Normal</td>\n",
              "      <td>140.0</td>\n",
              "      <td>Y</td>\n",
              "      <td>1.0</td>\n",
              "      <td>Flat</td>\n",
              "      <td>1</td>\n",
              "    </tr>\n",
              "    <tr>\n",
              "      <th>14</th>\n",
              "      <td>42</td>\n",
              "      <td>F</td>\n",
              "      <td>NAP</td>\n",
              "      <td>115.0</td>\n",
              "      <td>211</td>\n",
              "      <td>0</td>\n",
              "      <td>ST</td>\n",
              "      <td>137.0</td>\n",
              "      <td>N</td>\n",
              "      <td>0.0</td>\n",
              "      <td>Up</td>\n",
              "      <td>0</td>\n",
              "    </tr>\n",
              "    <tr>\n",
              "      <th>15</th>\n",
              "      <td>54</td>\n",
              "      <td>F</td>\n",
              "      <td>ATA</td>\n",
              "      <td>120.0</td>\n",
              "      <td>273</td>\n",
              "      <td>0</td>\n",
              "      <td>Normal</td>\n",
              "      <td>150.0</td>\n",
              "      <td>N</td>\n",
              "      <td>1.5</td>\n",
              "      <td>Flat</td>\n",
              "      <td>0</td>\n",
              "    </tr>\n",
              "    <tr>\n",
              "      <th>16</th>\n",
              "      <td>38</td>\n",
              "      <td>M</td>\n",
              "      <td>ASY</td>\n",
              "      <td>110.0</td>\n",
              "      <td>196</td>\n",
              "      <td>0</td>\n",
              "      <td>Normal</td>\n",
              "      <td>166.0</td>\n",
              "      <td>N</td>\n",
              "      <td>0.0</td>\n",
              "      <td>Flat</td>\n",
              "      <td>1</td>\n",
              "    </tr>\n",
              "    <tr>\n",
              "      <th>17</th>\n",
              "      <td>43</td>\n",
              "      <td>F</td>\n",
              "      <td>ATA</td>\n",
              "      <td>NaN</td>\n",
              "      <td>NaN</td>\n",
              "      <td>0</td>\n",
              "      <td>Normal</td>\n",
              "      <td>165.0</td>\n",
              "      <td>N</td>\n",
              "      <td>0.0</td>\n",
              "      <td>Up</td>\n",
              "      <td>0</td>\n",
              "    </tr>\n",
              "    <tr>\n",
              "      <th>18</th>\n",
              "      <td>60</td>\n",
              "      <td>M</td>\n",
              "      <td>ASY</td>\n",
              "      <td>100.0</td>\n",
              "      <td>248</td>\n",
              "      <td>0</td>\n",
              "      <td>Normal</td>\n",
              "      <td>125.0</td>\n",
              "      <td>N</td>\n",
              "      <td>1.0</td>\n",
              "      <td>Flat</td>\n",
              "      <td>1</td>\n",
              "    </tr>\n",
              "    <tr>\n",
              "      <th>19</th>\n",
              "      <td>36</td>\n",
              "      <td>M</td>\n",
              "      <td>ATA</td>\n",
              "      <td>120.0</td>\n",
              "      <td>267</td>\n",
              "      <td>0</td>\n",
              "      <td>Normal</td>\n",
              "      <td>160.0</td>\n",
              "      <td>N</td>\n",
              "      <td>3.0</td>\n",
              "      <td>Flat</td>\n",
              "      <td>1</td>\n",
              "    </tr>\n",
              "  </tbody>\n",
              "</table>\n",
              "</div>\n",
              "      <button class=\"colab-df-convert\" onclick=\"convertToInteractive('df-461d36c4-aba7-4f88-944a-40e68122ae8c')\"\n",
              "              title=\"Convert this dataframe to an interactive table.\"\n",
              "              style=\"display:none;\">\n",
              "        \n",
              "  <svg xmlns=\"http://www.w3.org/2000/svg\" height=\"24px\"viewBox=\"0 0 24 24\"\n",
              "       width=\"24px\">\n",
              "    <path d=\"M0 0h24v24H0V0z\" fill=\"none\"/>\n",
              "    <path d=\"M18.56 5.44l.94 2.06.94-2.06 2.06-.94-2.06-.94-.94-2.06-.94 2.06-2.06.94zm-11 1L8.5 8.5l.94-2.06 2.06-.94-2.06-.94L8.5 2.5l-.94 2.06-2.06.94zm10 10l.94 2.06.94-2.06 2.06-.94-2.06-.94-.94-2.06-.94 2.06-2.06.94z\"/><path d=\"M17.41 7.96l-1.37-1.37c-.4-.4-.92-.59-1.43-.59-.52 0-1.04.2-1.43.59L10.3 9.45l-7.72 7.72c-.78.78-.78 2.05 0 2.83L4 21.41c.39.39.9.59 1.41.59.51 0 1.02-.2 1.41-.59l7.78-7.78 2.81-2.81c.8-.78.8-2.07 0-2.86zM5.41 20L4 18.59l7.72-7.72 1.47 1.35L5.41 20z\"/>\n",
              "  </svg>\n",
              "      </button>\n",
              "      \n",
              "  <style>\n",
              "    .colab-df-container {\n",
              "      display:flex;\n",
              "      flex-wrap:wrap;\n",
              "      gap: 12px;\n",
              "    }\n",
              "\n",
              "    .colab-df-convert {\n",
              "      background-color: #E8F0FE;\n",
              "      border: none;\n",
              "      border-radius: 50%;\n",
              "      cursor: pointer;\n",
              "      display: none;\n",
              "      fill: #1967D2;\n",
              "      height: 32px;\n",
              "      padding: 0 0 0 0;\n",
              "      width: 32px;\n",
              "    }\n",
              "\n",
              "    .colab-df-convert:hover {\n",
              "      background-color: #E2EBFA;\n",
              "      box-shadow: 0px 1px 2px rgba(60, 64, 67, 0.3), 0px 1px 3px 1px rgba(60, 64, 67, 0.15);\n",
              "      fill: #174EA6;\n",
              "    }\n",
              "\n",
              "    [theme=dark] .colab-df-convert {\n",
              "      background-color: #3B4455;\n",
              "      fill: #D2E3FC;\n",
              "    }\n",
              "\n",
              "    [theme=dark] .colab-df-convert:hover {\n",
              "      background-color: #434B5C;\n",
              "      box-shadow: 0px 1px 3px 1px rgba(0, 0, 0, 0.15);\n",
              "      filter: drop-shadow(0px 1px 2px rgba(0, 0, 0, 0.3));\n",
              "      fill: #FFFFFF;\n",
              "    }\n",
              "  </style>\n",
              "\n",
              "      <script>\n",
              "        const buttonEl =\n",
              "          document.querySelector('#df-461d36c4-aba7-4f88-944a-40e68122ae8c button.colab-df-convert');\n",
              "        buttonEl.style.display =\n",
              "          google.colab.kernel.accessAllowed ? 'block' : 'none';\n",
              "\n",
              "        async function convertToInteractive(key) {\n",
              "          const element = document.querySelector('#df-461d36c4-aba7-4f88-944a-40e68122ae8c');\n",
              "          const dataTable =\n",
              "            await google.colab.kernel.invokeFunction('convertToInteractive',\n",
              "                                                     [key], {});\n",
              "          if (!dataTable) return;\n",
              "\n",
              "          const docLinkHtml = 'Like what you see? Visit the ' +\n",
              "            '<a target=\"_blank\" href=https://colab.research.google.com/notebooks/data_table.ipynb>data table notebook</a>'\n",
              "            + ' to learn more about interactive tables.';\n",
              "          element.innerHTML = '';\n",
              "          dataTable['output_type'] = 'display_data';\n",
              "          await google.colab.output.renderOutput(dataTable, element);\n",
              "          const docLink = document.createElement('div');\n",
              "          docLink.innerHTML = docLinkHtml;\n",
              "          element.appendChild(docLink);\n",
              "        }\n",
              "      </script>\n",
              "    </div>\n",
              "  </div>\n",
              "  "
            ]
          },
          "metadata": {},
          "execution_count": 2
        }
      ]
    },
    {
      "cell_type": "markdown",
      "source": [
        "По таблице видно, что в наборе представлены данные о наличие сердечных заболеваний у людей и параметры, связанные с этим.\n",
        "- В столбце **Age (Возраст)** указан возраст человека (int64)\n",
        "- в **Sex (Пол)** его пол (M - мужчина, F - женщина; object)\n",
        "- в **ChestPainType (Тип боли в груди)** тип болей в груди (TA - типичная стенокардия, ATA - атипичная стенокардия, NAP - неангинальная боль, ASY - бессимптомная; object)\n",
        "- в **RestingBP (Артериальное давление)** артериальное давление в покое (int64)\n",
        "- в **Cholesterol (Хорлестерин)** холестерин в мг/дл (int64)\n",
        "- в **FastingBS (Уровень сахара)** уровень сахара в крови натощак (1 - если >120 мг.\\дл., 0 - в остальных случаях; int64)\n",
        "- в **RestingECG (Результат ЭКГ)** результаты электрокардиограммы(ЭКГ) в покое (Normal - в нормальная, ST - аномальная ST-T, LVH - гипертрофия; object)\n",
        "- в **MaxHR (Максимальный пульс)** максимальная достигнутая частота сердечных сокращений (числовое значение от 60 до 202; int64)\n",
        "- в **ExerciseAngina (Стенокардия)** стенокардия вызванная физической нагрузкой (Y - присутствует, N - отсутствует; object)\n",
        "- в **Oldpeak (депресия ST)**  депрессия ST, вызванная физической нагрузкой, по сравнению с состоянием покоя (float64)\n",
        "- в **ST_Slope (Наклон ST)** наклон пикового сегмента ST при нагрузке (Up - восходящий, Flat - плоский, Down - нисходящий; object)\n",
        "- в **HeartDisease (Наличие болезни)** выходной класс, показывающий наличие болезни сердца (1 - болезнь сердца присутствует, 0 - отсутствует; int64)."
      ],
      "metadata": {
        "id": "NkEu5yYx-6EZ"
      }
    },
    {
      "cell_type": "markdown",
      "source": [
        "При помощи метода info выводится информация о наборе данных."
      ],
      "metadata": {
        "id": "zzxzUW_7Fr5Z"
      }
    },
    {
      "cell_type": "code",
      "source": [
        "df.info()"
      ],
      "metadata": {
        "colab": {
          "base_uri": "https://localhost:8080/"
        },
        "id": "g1wqCBm2xl6o",
        "outputId": "d68bc01b-703a-4cd0-a888-c9e04ace955b"
      },
      "execution_count": null,
      "outputs": [
        {
          "output_type": "stream",
          "name": "stdout",
          "text": [
            "<class 'pandas.core.frame.DataFrame'>\n",
            "RangeIndex: 925 entries, 0 to 924\n",
            "Data columns (total 12 columns):\n",
            " #   Column          Non-Null Count  Dtype  \n",
            "---  ------          --------------  -----  \n",
            " 0   Age             925 non-null    int64  \n",
            " 1   Sex             925 non-null    object \n",
            " 2   ChestPainType   925 non-null    object \n",
            " 3   RestingBP       923 non-null    float64\n",
            " 4   Cholesterol     924 non-null    object \n",
            " 5   FastingBS       925 non-null    int64  \n",
            " 6   RestingECG      924 non-null    object \n",
            " 7   MaxHR           924 non-null    float64\n",
            " 8   ExerciseAngina  925 non-null    object \n",
            " 9   Oldpeak         925 non-null    float64\n",
            " 10  ST_Slope        925 non-null    object \n",
            " 11  HeartDisease    925 non-null    int64  \n",
            "dtypes: float64(3), int64(3), object(6)\n",
            "memory usage: 86.8+ KB\n"
          ]
        }
      ]
    },
    {
      "cell_type": "markdown",
      "source": [
        "Из выведенной информации видно, что всего в наборе 925 объектов. В некоторых столбцах есть несколько пустых объектов, эти строки потребуется удалить или заполнить нулями. Для столбцов RestingBP, Cholesterol, MaxHR несоответствует тип данных. Во всех трех случаях должен быть int64, так как по таблице, выведенной выше, и названию столбцов видно, что данные должны быть представлены целыми числами. Для этих столбцов потребуется изменить тип данных."
      ],
      "metadata": {
        "id": "WmyMuBtCF6cN"
      }
    },
    {
      "cell_type": "markdown",
      "source": [
        "Используя метод columns выводим названия столбцов."
      ],
      "metadata": {
        "id": "I1lnBMZ2HI3n"
      }
    },
    {
      "cell_type": "code",
      "source": [
        "df.columns"
      ],
      "metadata": {
        "colab": {
          "base_uri": "https://localhost:8080/"
        },
        "id": "sLOOCg93xy7l",
        "outputId": "d8b0342e-b365-4ac2-c4fe-5d48b6c43f56"
      },
      "execution_count": null,
      "outputs": [
        {
          "output_type": "execute_result",
          "data": {
            "text/plain": [
              "Index(['Age', 'Sex', 'ChestPainType', 'RestingBP', 'Cholesterol', 'FastingBS',\n",
              "       'RestingECG', 'MaxHR', 'ExerciseAngina', 'Oldpeak', 'ST_Slope',\n",
              "       'HeartDisease'],\n",
              "      dtype='object')"
            ]
          },
          "metadata": {},
          "execution_count": 4
        }
      ]
    },
    {
      "cell_type": "markdown",
      "source": [
        "Из выведенного можно отметить, что в названиях столбцов CheastPainType, ExerciseAngina, HeartDesease отсутствует разделитель между словами. Для переименования столбцов и исправления ошибок в их названии используется метод rename, которому в качестве параметра передается словарь, содержащий в качестве ключей - названия столбца, а в качестве значения - название, на которое нужно переименовать столбец."
      ],
      "metadata": {
        "id": "qKPaxV7iVq4H"
      }
    },
    {
      "cell_type": "code",
      "source": [
        "df = df.rename(columns = {\"ChestPainType\": \"Chest_Pain_Type\",\"ExerciseAngina\": \"Exercise_Angina\", \"HeartDesease\": \"Heart_Desease\"})\n",
        "df.columns"
      ],
      "metadata": {
        "id": "0viyi8TCx1Da",
        "colab": {
          "base_uri": "https://localhost:8080/"
        },
        "outputId": "d594a209-a4cd-47da-a4ff-d61f735467a8"
      },
      "execution_count": null,
      "outputs": [
        {
          "output_type": "execute_result",
          "data": {
            "text/plain": [
              "Index(['Age', 'Sex', 'Chest_Pain_Type', 'RestingBP', 'Cholesterol',\n",
              "       'FastingBS', 'RestingECG', 'MaxHR', 'Exercise_Angina', 'Oldpeak',\n",
              "       'ST_Slope', 'HeartDisease'],\n",
              "      dtype='object')"
            ]
          },
          "metadata": {},
          "execution_count": 5
        }
      ]
    },
    {
      "cell_type": "markdown",
      "source": [
        "При помощи метода isna получаем пустые объекты в столбцах и подсчитываем их количество с помощью метода sum."
      ],
      "metadata": {
        "id": "cAfNxq-oZZSw"
      }
    },
    {
      "cell_type": "code",
      "source": [
        "print(df.isna().sum())"
      ],
      "metadata": {
        "colab": {
          "base_uri": "https://localhost:8080/"
        },
        "id": "kXwKlk70x19E",
        "outputId": "86ba1042-9759-42aa-b208-0e711f6db475"
      },
      "execution_count": null,
      "outputs": [
        {
          "output_type": "stream",
          "name": "stdout",
          "text": [
            "Age                0\n",
            "Sex                0\n",
            "Chest_Pain_Type    0\n",
            "RestingBP          2\n",
            "Cholesterol        1\n",
            "FastingBS          0\n",
            "RestingECG         1\n",
            "MaxHR              1\n",
            "Exercise_Angina    0\n",
            "Oldpeak            0\n",
            "ST_Slope           0\n",
            "HeartDisease       0\n",
            "dtype: int64\n"
          ]
        }
      ]
    },
    {
      "cell_type": "markdown",
      "source": [
        "В колонках RestingBP, Cholesterol, RestingECG, MaxHR присутствует пустые объекты, так как эти данные могут повлиять на анализ, эти строки будут удалены при помощи метода dropna c переданным параметром \"subset\"(подмножество), содержащий список с названиями, содержащих пустые объекты, столбцов, которые надо удалить."
      ],
      "metadata": {
        "id": "NvQuKvSLZ1XW"
      }
    },
    {
      "cell_type": "code",
      "source": [
        "df = df.dropna(subset = [\"RestingBP\", \"Cholesterol\", \"RestingECG\", \"MaxHR\"])"
      ],
      "metadata": {
        "id": "q7-y5VrtyW1O"
      },
      "execution_count": null,
      "outputs": []
    },
    {
      "cell_type": "markdown",
      "source": [
        "Проверяем, что набор данных больше не содержит пустых объектов, с помощью методов isna и sum."
      ],
      "metadata": {
        "id": "5FpYuTFbfIpJ"
      }
    },
    {
      "cell_type": "code",
      "source": [
        "print(df.isna().sum())"
      ],
      "metadata": {
        "colab": {
          "base_uri": "https://localhost:8080/"
        },
        "id": "MEUEOA2rfHyK",
        "outputId": "6df86f08-ca6e-4e86-839a-ea2ff2edf5dc"
      },
      "execution_count": null,
      "outputs": [
        {
          "output_type": "stream",
          "name": "stdout",
          "text": [
            "Age                0\n",
            "Sex                0\n",
            "Chest_Pain_Type    0\n",
            "RestingBP          0\n",
            "Cholesterol        0\n",
            "FastingBS          0\n",
            "RestingECG         0\n",
            "MaxHR              0\n",
            "Exercise_Angina    0\n",
            "Oldpeak            0\n",
            "ST_Slope           0\n",
            "HeartDisease       0\n",
            "dtype: int64\n"
          ]
        }
      ]
    },
    {
      "cell_type": "markdown",
      "source": [
        "Выведем количество дубликатов в наборе данных при помощи методов duplicated и sum."
      ],
      "metadata": {
        "id": "pKbZ31mqmWTk"
      }
    },
    {
      "cell_type": "markdown",
      "source": [
        "В наборе данных имеется три дубликата, удалим их при помощи помощи метода drop_duplicates, а также уберем пустые строки применив метод reset_index."
      ],
      "metadata": {
        "id": "neQHFHoAmlfk"
      }
    },
    {
      "cell_type": "code",
      "source": [
        "print(df.duplicated().sum())"
      ],
      "metadata": {
        "colab": {
          "base_uri": "https://localhost:8080/"
        },
        "id": "SEO30h-2miNK",
        "outputId": "02810629-7f5f-47ae-f561-b0470dad8b6a"
      },
      "execution_count": null,
      "outputs": [
        {
          "output_type": "stream",
          "name": "stdout",
          "text": [
            "3\n"
          ]
        }
      ]
    },
    {
      "cell_type": "code",
      "source": [
        "df = df.drop_duplicates().reset_index()"
      ],
      "metadata": {
        "id": "EonstLfRnoGE"
      },
      "execution_count": null,
      "outputs": []
    },
    {
      "cell_type": "markdown",
      "source": [
        "При помощи метода unique ищем скрытые дубликаты в столбцах: Sex, Chest_Pain_Type, RestingECG, Exercise_Angina, ST_Slope. Проверяем именно эти столбцы, так как в них используется тип object и некоторые значения могут иметь различные названия, но отражать одинаковую информацию."
      ],
      "metadata": {
        "id": "JOgoQyZlnqQS"
      }
    },
    {
      "cell_type": "code",
      "source": [
        "print(df[\"Sex\"].unique())\n",
        "print(df[\"Chest_Pain_Type\"].unique())\n",
        "print(df[\"RestingECG\"].unique())\n",
        "print(df[\"Exercise_Angina\"].unique())\n",
        "print(df[\"ST_Slope\"].unique())"
      ],
      "metadata": {
        "colab": {
          "base_uri": "https://localhost:8080/"
        },
        "id": "pLBjAn2jpOCf",
        "outputId": "db2c7745-7f75-44b3-cf8f-28973ae5d844"
      },
      "execution_count": null,
      "outputs": [
        {
          "output_type": "stream",
          "name": "stdout",
          "text": [
            "['M' 'F' 'Ma']\n",
            "['ATA' 'NAP' 'ASY' 'TA']\n",
            "['Normal' 'ST' 'LVH']\n",
            "['N' 'Y']\n",
            "['Up' 'Flat' 'Down' 'UP']\n"
          ]
        }
      ]
    },
    {
      "cell_type": "markdown",
      "source": [
        "В столбце Sex продублировано значение \"мужчина\": \"M\" и \"Мa\", а в столбце ST_Slope продублировано значение \"восходящая\": \"Up\" и \"UP\". Удалим неявные дубликаты переименовав альтернативные название при помощи метода replace с первым аргуметном - нежелательное значение, вторым аргументом - желаемое значение."
      ],
      "metadata": {
        "id": "MTB74aFWp0Yn"
      }
    },
    {
      "cell_type": "code",
      "source": [
        "df[\"Sex\"] = df[\"Sex\"].replace(\"Ma\", \"M\")\n",
        "df[\"ST_Slope\"] = df[\"ST_Slope\"].replace(\"UP\", \"Up\")"
      ],
      "metadata": {
        "id": "Y7VcdQ7dpuQC"
      },
      "execution_count": null,
      "outputs": []
    },
    {
      "cell_type": "markdown",
      "source": [
        "При анализе типов столбцов набора данных были найдены несколько несоответствий, исправим их при помощи метода astype с параметром int. Для столбца \"Cholesterol\" предварительно выполним метод to_numeric модуля pd с переданным значением \"coerce\" параметра \"errors\", чтобы заменить некоректные значения на NaN и удалим их при помощи метода dropna."
      ],
      "metadata": {
        "id": "9HtjyvNtrbnI"
      }
    },
    {
      "cell_type": "code",
      "source": [
        "df[\"Cholesterol\"] = pd.to_numeric(df[\"Cholesterol\"], errors=\"coerce\")\n",
        "df = df.dropna(subset = [\"Cholesterol\"])\n",
        "df[[\"RestingBP\", \"MaxHR\", \"Cholesterol\"]] = df[[\"RestingBP\", \"MaxHR\", \"Cholesterol\"]].astype(int)\n",
        "df.info()"
      ],
      "metadata": {
        "colab": {
          "base_uri": "https://localhost:8080/"
        },
        "id": "rT26vKMFsCxw",
        "outputId": "5e0d0764-cb80-490e-b2c2-2a2103d4acfa"
      },
      "execution_count": null,
      "outputs": [
        {
          "output_type": "stream",
          "name": "stdout",
          "text": [
            "<class 'pandas.core.frame.DataFrame'>\n",
            "Int64Index: 917 entries, 0 to 917\n",
            "Data columns (total 13 columns):\n",
            " #   Column           Non-Null Count  Dtype  \n",
            "---  ------           --------------  -----  \n",
            " 0   index            917 non-null    int64  \n",
            " 1   Age              917 non-null    int64  \n",
            " 2   Sex              917 non-null    object \n",
            " 3   Chest_Pain_Type  917 non-null    object \n",
            " 4   RestingBP        917 non-null    int64  \n",
            " 5   Cholesterol      917 non-null    int64  \n",
            " 6   FastingBS        917 non-null    int64  \n",
            " 7   RestingECG       917 non-null    object \n",
            " 8   MaxHR            917 non-null    int64  \n",
            " 9   Exercise_Angina  917 non-null    object \n",
            " 10  Oldpeak          917 non-null    float64\n",
            " 11  ST_Slope         917 non-null    object \n",
            " 12  HeartDisease     917 non-null    int64  \n",
            "dtypes: float64(1), int64(7), object(5)\n",
            "memory usage: 100.3+ KB\n"
          ]
        }
      ]
    },
    {
      "cell_type": "markdown",
      "source": [
        "При помощи метода pivot_table создаем сводную таблицу среднего артериального давления в покое и средней максимальной достигнутой частоты сердечных сокращений для каждого пола, передав в качестве параметра \"index\" название столбца, по которому группируются значения, и параметра \"values\" список названий столбцов, по которым ведется подсчет среднего значения."
      ],
      "metadata": {
        "id": "8IMGse0z1rRH"
      }
    },
    {
      "cell_type": "code",
      "source": [
        "data_pivot = df.pivot_table(index= [\"Sex\"], values= [\"RestingBP\", \"MaxHR\"])\n",
        "data_pivot"
      ],
      "metadata": {
        "colab": {
          "base_uri": "https://localhost:8080/",
          "height": 143
        },
        "id": "YEoP65EB5UfC",
        "outputId": "8c6bef66-d747-43ed-e1ed-a3fb6febabc8"
      },
      "execution_count": null,
      "outputs": [
        {
          "output_type": "execute_result",
          "data": {
            "text/plain": [
              "          MaxHR   RestingBP\n",
              "Sex                        \n",
              "F    146.041667  132.276042\n",
              "M    134.360000  132.445517"
            ],
            "text/html": [
              "\n",
              "  <div id=\"df-25eddaae-7a14-4cfa-8375-3f87d7244d8b\">\n",
              "    <div class=\"colab-df-container\">\n",
              "      <div>\n",
              "<style scoped>\n",
              "    .dataframe tbody tr th:only-of-type {\n",
              "        vertical-align: middle;\n",
              "    }\n",
              "\n",
              "    .dataframe tbody tr th {\n",
              "        vertical-align: top;\n",
              "    }\n",
              "\n",
              "    .dataframe thead th {\n",
              "        text-align: right;\n",
              "    }\n",
              "</style>\n",
              "<table border=\"1\" class=\"dataframe\">\n",
              "  <thead>\n",
              "    <tr style=\"text-align: right;\">\n",
              "      <th></th>\n",
              "      <th>MaxHR</th>\n",
              "      <th>RestingBP</th>\n",
              "    </tr>\n",
              "    <tr>\n",
              "      <th>Sex</th>\n",
              "      <th></th>\n",
              "      <th></th>\n",
              "    </tr>\n",
              "  </thead>\n",
              "  <tbody>\n",
              "    <tr>\n",
              "      <th>F</th>\n",
              "      <td>146.041667</td>\n",
              "      <td>132.276042</td>\n",
              "    </tr>\n",
              "    <tr>\n",
              "      <th>M</th>\n",
              "      <td>134.360000</td>\n",
              "      <td>132.445517</td>\n",
              "    </tr>\n",
              "  </tbody>\n",
              "</table>\n",
              "</div>\n",
              "      <button class=\"colab-df-convert\" onclick=\"convertToInteractive('df-25eddaae-7a14-4cfa-8375-3f87d7244d8b')\"\n",
              "              title=\"Convert this dataframe to an interactive table.\"\n",
              "              style=\"display:none;\">\n",
              "        \n",
              "  <svg xmlns=\"http://www.w3.org/2000/svg\" height=\"24px\"viewBox=\"0 0 24 24\"\n",
              "       width=\"24px\">\n",
              "    <path d=\"M0 0h24v24H0V0z\" fill=\"none\"/>\n",
              "    <path d=\"M18.56 5.44l.94 2.06.94-2.06 2.06-.94-2.06-.94-.94-2.06-.94 2.06-2.06.94zm-11 1L8.5 8.5l.94-2.06 2.06-.94-2.06-.94L8.5 2.5l-.94 2.06-2.06.94zm10 10l.94 2.06.94-2.06 2.06-.94-2.06-.94-.94-2.06-.94 2.06-2.06.94z\"/><path d=\"M17.41 7.96l-1.37-1.37c-.4-.4-.92-.59-1.43-.59-.52 0-1.04.2-1.43.59L10.3 9.45l-7.72 7.72c-.78.78-.78 2.05 0 2.83L4 21.41c.39.39.9.59 1.41.59.51 0 1.02-.2 1.41-.59l7.78-7.78 2.81-2.81c.8-.78.8-2.07 0-2.86zM5.41 20L4 18.59l7.72-7.72 1.47 1.35L5.41 20z\"/>\n",
              "  </svg>\n",
              "      </button>\n",
              "      \n",
              "  <style>\n",
              "    .colab-df-container {\n",
              "      display:flex;\n",
              "      flex-wrap:wrap;\n",
              "      gap: 12px;\n",
              "    }\n",
              "\n",
              "    .colab-df-convert {\n",
              "      background-color: #E8F0FE;\n",
              "      border: none;\n",
              "      border-radius: 50%;\n",
              "      cursor: pointer;\n",
              "      display: none;\n",
              "      fill: #1967D2;\n",
              "      height: 32px;\n",
              "      padding: 0 0 0 0;\n",
              "      width: 32px;\n",
              "    }\n",
              "\n",
              "    .colab-df-convert:hover {\n",
              "      background-color: #E2EBFA;\n",
              "      box-shadow: 0px 1px 2px rgba(60, 64, 67, 0.3), 0px 1px 3px 1px rgba(60, 64, 67, 0.15);\n",
              "      fill: #174EA6;\n",
              "    }\n",
              "\n",
              "    [theme=dark] .colab-df-convert {\n",
              "      background-color: #3B4455;\n",
              "      fill: #D2E3FC;\n",
              "    }\n",
              "\n",
              "    [theme=dark] .colab-df-convert:hover {\n",
              "      background-color: #434B5C;\n",
              "      box-shadow: 0px 1px 3px 1px rgba(0, 0, 0, 0.15);\n",
              "      filter: drop-shadow(0px 1px 2px rgba(0, 0, 0, 0.3));\n",
              "      fill: #FFFFFF;\n",
              "    }\n",
              "  </style>\n",
              "\n",
              "      <script>\n",
              "        const buttonEl =\n",
              "          document.querySelector('#df-25eddaae-7a14-4cfa-8375-3f87d7244d8b button.colab-df-convert');\n",
              "        buttonEl.style.display =\n",
              "          google.colab.kernel.accessAllowed ? 'block' : 'none';\n",
              "\n",
              "        async function convertToInteractive(key) {\n",
              "          const element = document.querySelector('#df-25eddaae-7a14-4cfa-8375-3f87d7244d8b');\n",
              "          const dataTable =\n",
              "            await google.colab.kernel.invokeFunction('convertToInteractive',\n",
              "                                                     [key], {});\n",
              "          if (!dataTable) return;\n",
              "\n",
              "          const docLinkHtml = 'Like what you see? Visit the ' +\n",
              "            '<a target=\"_blank\" href=https://colab.research.google.com/notebooks/data_table.ipynb>data table notebook</a>'\n",
              "            + ' to learn more about interactive tables.';\n",
              "          element.innerHTML = '';\n",
              "          dataTable['output_type'] = 'display_data';\n",
              "          await google.colab.output.renderOutput(dataTable, element);\n",
              "          const docLink = document.createElement('div');\n",
              "          docLink.innerHTML = docLinkHtml;\n",
              "          element.appendChild(docLink);\n",
              "        }\n",
              "      </script>\n",
              "    </div>\n",
              "  </div>\n",
              "  "
            ]
          },
          "metadata": {},
          "execution_count": 14
        }
      ]
    },
    {
      "cell_type": "markdown",
      "source": [
        "Из получившейся таблицы видно, что среднее артериальное давление для обоих полов примерно равно, а значит этот параметр не зависит от пола. Среднее значение максимальной частоты сердечных сокращений больше у женщин на 12, чем у мужчин, что может указывать на большее повышение пульса под нагрузкой у женщин."
      ],
      "metadata": {
        "id": "HjFzjYQybKUK"
      }
    },
    {
      "cell_type": "markdown",
      "source": [
        "Также при помощи метода pivot_table создаем сводную таблицу среднего холестерина для каждого типа боли и отсортируем его по возрастанию при помощи метода sort_values, в который передаем в качестве параметра \"by\" названии столбца, по которому требуется отсортировать таблицу."
      ],
      "metadata": {
        "id": "V6XrpIoH6mgc"
      }
    },
    {
      "cell_type": "code",
      "source": [
        "data_pivot = df.pivot_table(index= [\"Chest_Pain_Type\"], values= [\"Cholesterol\"])\n",
        "data_pivot = data_pivot.sort_values(by=\"Cholesterol\")\n",
        "data_pivot"
      ],
      "metadata": {
        "colab": {
          "base_uri": "https://localhost:8080/",
          "height": 206
        },
        "id": "WaGjTr4d6oKc",
        "outputId": "1419e520-0b85-4c3e-a3f8-fb5b20587d0b"
      },
      "execution_count": null,
      "outputs": [
        {
          "output_type": "execute_result",
          "data": {
            "text/plain": [
              "                 Cholesterol\n",
              "Chest_Pain_Type             \n",
              "ASY               186.645161\n",
              "NAP               197.351485\n",
              "TA                207.065217\n",
              "ATA               233.161850"
            ],
            "text/html": [
              "\n",
              "  <div id=\"df-ffe2c717-64b1-4550-af40-d766b7993ee0\">\n",
              "    <div class=\"colab-df-container\">\n",
              "      <div>\n",
              "<style scoped>\n",
              "    .dataframe tbody tr th:only-of-type {\n",
              "        vertical-align: middle;\n",
              "    }\n",
              "\n",
              "    .dataframe tbody tr th {\n",
              "        vertical-align: top;\n",
              "    }\n",
              "\n",
              "    .dataframe thead th {\n",
              "        text-align: right;\n",
              "    }\n",
              "</style>\n",
              "<table border=\"1\" class=\"dataframe\">\n",
              "  <thead>\n",
              "    <tr style=\"text-align: right;\">\n",
              "      <th></th>\n",
              "      <th>Cholesterol</th>\n",
              "    </tr>\n",
              "    <tr>\n",
              "      <th>Chest_Pain_Type</th>\n",
              "      <th></th>\n",
              "    </tr>\n",
              "  </thead>\n",
              "  <tbody>\n",
              "    <tr>\n",
              "      <th>ASY</th>\n",
              "      <td>186.645161</td>\n",
              "    </tr>\n",
              "    <tr>\n",
              "      <th>NAP</th>\n",
              "      <td>197.351485</td>\n",
              "    </tr>\n",
              "    <tr>\n",
              "      <th>TA</th>\n",
              "      <td>207.065217</td>\n",
              "    </tr>\n",
              "    <tr>\n",
              "      <th>ATA</th>\n",
              "      <td>233.161850</td>\n",
              "    </tr>\n",
              "  </tbody>\n",
              "</table>\n",
              "</div>\n",
              "      <button class=\"colab-df-convert\" onclick=\"convertToInteractive('df-ffe2c717-64b1-4550-af40-d766b7993ee0')\"\n",
              "              title=\"Convert this dataframe to an interactive table.\"\n",
              "              style=\"display:none;\">\n",
              "        \n",
              "  <svg xmlns=\"http://www.w3.org/2000/svg\" height=\"24px\"viewBox=\"0 0 24 24\"\n",
              "       width=\"24px\">\n",
              "    <path d=\"M0 0h24v24H0V0z\" fill=\"none\"/>\n",
              "    <path d=\"M18.56 5.44l.94 2.06.94-2.06 2.06-.94-2.06-.94-.94-2.06-.94 2.06-2.06.94zm-11 1L8.5 8.5l.94-2.06 2.06-.94-2.06-.94L8.5 2.5l-.94 2.06-2.06.94zm10 10l.94 2.06.94-2.06 2.06-.94-2.06-.94-.94-2.06-.94 2.06-2.06.94z\"/><path d=\"M17.41 7.96l-1.37-1.37c-.4-.4-.92-.59-1.43-.59-.52 0-1.04.2-1.43.59L10.3 9.45l-7.72 7.72c-.78.78-.78 2.05 0 2.83L4 21.41c.39.39.9.59 1.41.59.51 0 1.02-.2 1.41-.59l7.78-7.78 2.81-2.81c.8-.78.8-2.07 0-2.86zM5.41 20L4 18.59l7.72-7.72 1.47 1.35L5.41 20z\"/>\n",
              "  </svg>\n",
              "      </button>\n",
              "      \n",
              "  <style>\n",
              "    .colab-df-container {\n",
              "      display:flex;\n",
              "      flex-wrap:wrap;\n",
              "      gap: 12px;\n",
              "    }\n",
              "\n",
              "    .colab-df-convert {\n",
              "      background-color: #E8F0FE;\n",
              "      border: none;\n",
              "      border-radius: 50%;\n",
              "      cursor: pointer;\n",
              "      display: none;\n",
              "      fill: #1967D2;\n",
              "      height: 32px;\n",
              "      padding: 0 0 0 0;\n",
              "      width: 32px;\n",
              "    }\n",
              "\n",
              "    .colab-df-convert:hover {\n",
              "      background-color: #E2EBFA;\n",
              "      box-shadow: 0px 1px 2px rgba(60, 64, 67, 0.3), 0px 1px 3px 1px rgba(60, 64, 67, 0.15);\n",
              "      fill: #174EA6;\n",
              "    }\n",
              "\n",
              "    [theme=dark] .colab-df-convert {\n",
              "      background-color: #3B4455;\n",
              "      fill: #D2E3FC;\n",
              "    }\n",
              "\n",
              "    [theme=dark] .colab-df-convert:hover {\n",
              "      background-color: #434B5C;\n",
              "      box-shadow: 0px 1px 3px 1px rgba(0, 0, 0, 0.15);\n",
              "      filter: drop-shadow(0px 1px 2px rgba(0, 0, 0, 0.3));\n",
              "      fill: #FFFFFF;\n",
              "    }\n",
              "  </style>\n",
              "\n",
              "      <script>\n",
              "        const buttonEl =\n",
              "          document.querySelector('#df-ffe2c717-64b1-4550-af40-d766b7993ee0 button.colab-df-convert');\n",
              "        buttonEl.style.display =\n",
              "          google.colab.kernel.accessAllowed ? 'block' : 'none';\n",
              "\n",
              "        async function convertToInteractive(key) {\n",
              "          const element = document.querySelector('#df-ffe2c717-64b1-4550-af40-d766b7993ee0');\n",
              "          const dataTable =\n",
              "            await google.colab.kernel.invokeFunction('convertToInteractive',\n",
              "                                                     [key], {});\n",
              "          if (!dataTable) return;\n",
              "\n",
              "          const docLinkHtml = 'Like what you see? Visit the ' +\n",
              "            '<a target=\"_blank\" href=https://colab.research.google.com/notebooks/data_table.ipynb>data table notebook</a>'\n",
              "            + ' to learn more about interactive tables.';\n",
              "          element.innerHTML = '';\n",
              "          dataTable['output_type'] = 'display_data';\n",
              "          await google.colab.output.renderOutput(dataTable, element);\n",
              "          const docLink = document.createElement('div');\n",
              "          docLink.innerHTML = docLinkHtml;\n",
              "          element.appendChild(docLink);\n",
              "        }\n",
              "      </script>\n",
              "    </div>\n",
              "  </div>\n",
              "  "
            ]
          },
          "metadata": {},
          "execution_count": 15
        }
      ]
    },
    {
      "cell_type": "markdown",
      "source": [
        "Значения в получившейся таблице указывают на возможную связь типов боли в груди у больного и содержание холестерина в его крови."
      ],
      "metadata": {
        "id": "RqfnFNxUbMjD"
      }
    },
    {
      "cell_type": "markdown",
      "source": [
        "При помощи методов groupby, get_group и sort_values создадим таблицу для аномальной ST-T по результатам ЭКГ, отсортированную по депрессии ST по убыванию. Для сортировки по убыванию в методе sotr_values передается параметр \"ascending\" со значением False."
      ],
      "metadata": {
        "id": "tjGCRQbFIS7u"
      }
    },
    {
      "cell_type": "code",
      "source": [
        "data_group = df.groupby(\"RestingECG\")\n",
        "data_group = data_group.get_group(\"ST\")\n",
        "data_group = data_group.sort_values(by=\"Oldpeak\", ascending=False)\n",
        "data_group"
      ],
      "metadata": {
        "colab": {
          "base_uri": "https://localhost:8080/",
          "height": 424
        },
        "id": "joXOrtWU76gy",
        "outputId": "de8e5ef3-f154-4035-e433-df0e370f9942"
      },
      "execution_count": null,
      "outputs": [
        {
          "output_type": "execute_result",
          "data": {
            "text/plain": [
              "     index  Age Sex Chest_Pain_Type  RestingBP  Cholesterol  FastingBS  \\\n",
              "164    166   50   M             ASY        140          231          0   \n",
              "898    900   58   M             ASY        114          318          0   \n",
              "535    537   74   M             ASY        150          258          1   \n",
              "519    521   61   M             ASY        120          282          0   \n",
              "66      68   52   M             ASY        160          246          0   \n",
              "..     ...  ...  ..             ...        ...          ...        ...   \n",
              "510    512   35   M             NAP        123          161          0   \n",
              "419    421   66   M             NAP        120            0          0   \n",
              "350    352   56   M             ASY        120            0          0   \n",
              "329    331   56   M             ASY        115            0          1   \n",
              "322    324   46   M             ASY        100            0          1   \n",
              "\n",
              "    RestingECG  MaxHR Exercise_Angina  Oldpeak ST_Slope  HeartDisease  \n",
              "164         ST    140               Y      5.0     Flat             1  \n",
              "898         ST    140               N      4.4     Down             1  \n",
              "535         ST    130               Y      4.0     Down             1  \n",
              "519         ST    135               Y      4.0     Down             1  \n",
              "66          ST     82               Y      4.0     Flat             1  \n",
              "..         ...    ...             ...      ...      ...           ...  \n",
              "510         ST    153               N     -0.1       Up             0  \n",
              "419         ST    120               N     -0.5       Up             0  \n",
              "350         ST    100               Y     -1.0     Down             1  \n",
              "329         ST     82               N     -1.0       Up             1  \n",
              "322         ST    133               N     -2.6     Flat             1  \n",
              "\n",
              "[178 rows x 13 columns]"
            ],
            "text/html": [
              "\n",
              "  <div id=\"df-022d48d2-a347-4dd5-8d43-4d74ddc2af49\">\n",
              "    <div class=\"colab-df-container\">\n",
              "      <div>\n",
              "<style scoped>\n",
              "    .dataframe tbody tr th:only-of-type {\n",
              "        vertical-align: middle;\n",
              "    }\n",
              "\n",
              "    .dataframe tbody tr th {\n",
              "        vertical-align: top;\n",
              "    }\n",
              "\n",
              "    .dataframe thead th {\n",
              "        text-align: right;\n",
              "    }\n",
              "</style>\n",
              "<table border=\"1\" class=\"dataframe\">\n",
              "  <thead>\n",
              "    <tr style=\"text-align: right;\">\n",
              "      <th></th>\n",
              "      <th>index</th>\n",
              "      <th>Age</th>\n",
              "      <th>Sex</th>\n",
              "      <th>Chest_Pain_Type</th>\n",
              "      <th>RestingBP</th>\n",
              "      <th>Cholesterol</th>\n",
              "      <th>FastingBS</th>\n",
              "      <th>RestingECG</th>\n",
              "      <th>MaxHR</th>\n",
              "      <th>Exercise_Angina</th>\n",
              "      <th>Oldpeak</th>\n",
              "      <th>ST_Slope</th>\n",
              "      <th>HeartDisease</th>\n",
              "    </tr>\n",
              "  </thead>\n",
              "  <tbody>\n",
              "    <tr>\n",
              "      <th>164</th>\n",
              "      <td>166</td>\n",
              "      <td>50</td>\n",
              "      <td>M</td>\n",
              "      <td>ASY</td>\n",
              "      <td>140</td>\n",
              "      <td>231</td>\n",
              "      <td>0</td>\n",
              "      <td>ST</td>\n",
              "      <td>140</td>\n",
              "      <td>Y</td>\n",
              "      <td>5.0</td>\n",
              "      <td>Flat</td>\n",
              "      <td>1</td>\n",
              "    </tr>\n",
              "    <tr>\n",
              "      <th>898</th>\n",
              "      <td>900</td>\n",
              "      <td>58</td>\n",
              "      <td>M</td>\n",
              "      <td>ASY</td>\n",
              "      <td>114</td>\n",
              "      <td>318</td>\n",
              "      <td>0</td>\n",
              "      <td>ST</td>\n",
              "      <td>140</td>\n",
              "      <td>N</td>\n",
              "      <td>4.4</td>\n",
              "      <td>Down</td>\n",
              "      <td>1</td>\n",
              "    </tr>\n",
              "    <tr>\n",
              "      <th>535</th>\n",
              "      <td>537</td>\n",
              "      <td>74</td>\n",
              "      <td>M</td>\n",
              "      <td>ASY</td>\n",
              "      <td>150</td>\n",
              "      <td>258</td>\n",
              "      <td>1</td>\n",
              "      <td>ST</td>\n",
              "      <td>130</td>\n",
              "      <td>Y</td>\n",
              "      <td>4.0</td>\n",
              "      <td>Down</td>\n",
              "      <td>1</td>\n",
              "    </tr>\n",
              "    <tr>\n",
              "      <th>519</th>\n",
              "      <td>521</td>\n",
              "      <td>61</td>\n",
              "      <td>M</td>\n",
              "      <td>ASY</td>\n",
              "      <td>120</td>\n",
              "      <td>282</td>\n",
              "      <td>0</td>\n",
              "      <td>ST</td>\n",
              "      <td>135</td>\n",
              "      <td>Y</td>\n",
              "      <td>4.0</td>\n",
              "      <td>Down</td>\n",
              "      <td>1</td>\n",
              "    </tr>\n",
              "    <tr>\n",
              "      <th>66</th>\n",
              "      <td>68</td>\n",
              "      <td>52</td>\n",
              "      <td>M</td>\n",
              "      <td>ASY</td>\n",
              "      <td>160</td>\n",
              "      <td>246</td>\n",
              "      <td>0</td>\n",
              "      <td>ST</td>\n",
              "      <td>82</td>\n",
              "      <td>Y</td>\n",
              "      <td>4.0</td>\n",
              "      <td>Flat</td>\n",
              "      <td>1</td>\n",
              "    </tr>\n",
              "    <tr>\n",
              "      <th>...</th>\n",
              "      <td>...</td>\n",
              "      <td>...</td>\n",
              "      <td>...</td>\n",
              "      <td>...</td>\n",
              "      <td>...</td>\n",
              "      <td>...</td>\n",
              "      <td>...</td>\n",
              "      <td>...</td>\n",
              "      <td>...</td>\n",
              "      <td>...</td>\n",
              "      <td>...</td>\n",
              "      <td>...</td>\n",
              "      <td>...</td>\n",
              "    </tr>\n",
              "    <tr>\n",
              "      <th>510</th>\n",
              "      <td>512</td>\n",
              "      <td>35</td>\n",
              "      <td>M</td>\n",
              "      <td>NAP</td>\n",
              "      <td>123</td>\n",
              "      <td>161</td>\n",
              "      <td>0</td>\n",
              "      <td>ST</td>\n",
              "      <td>153</td>\n",
              "      <td>N</td>\n",
              "      <td>-0.1</td>\n",
              "      <td>Up</td>\n",
              "      <td>0</td>\n",
              "    </tr>\n",
              "    <tr>\n",
              "      <th>419</th>\n",
              "      <td>421</td>\n",
              "      <td>66</td>\n",
              "      <td>M</td>\n",
              "      <td>NAP</td>\n",
              "      <td>120</td>\n",
              "      <td>0</td>\n",
              "      <td>0</td>\n",
              "      <td>ST</td>\n",
              "      <td>120</td>\n",
              "      <td>N</td>\n",
              "      <td>-0.5</td>\n",
              "      <td>Up</td>\n",
              "      <td>0</td>\n",
              "    </tr>\n",
              "    <tr>\n",
              "      <th>350</th>\n",
              "      <td>352</td>\n",
              "      <td>56</td>\n",
              "      <td>M</td>\n",
              "      <td>ASY</td>\n",
              "      <td>120</td>\n",
              "      <td>0</td>\n",
              "      <td>0</td>\n",
              "      <td>ST</td>\n",
              "      <td>100</td>\n",
              "      <td>Y</td>\n",
              "      <td>-1.0</td>\n",
              "      <td>Down</td>\n",
              "      <td>1</td>\n",
              "    </tr>\n",
              "    <tr>\n",
              "      <th>329</th>\n",
              "      <td>331</td>\n",
              "      <td>56</td>\n",
              "      <td>M</td>\n",
              "      <td>ASY</td>\n",
              "      <td>115</td>\n",
              "      <td>0</td>\n",
              "      <td>1</td>\n",
              "      <td>ST</td>\n",
              "      <td>82</td>\n",
              "      <td>N</td>\n",
              "      <td>-1.0</td>\n",
              "      <td>Up</td>\n",
              "      <td>1</td>\n",
              "    </tr>\n",
              "    <tr>\n",
              "      <th>322</th>\n",
              "      <td>324</td>\n",
              "      <td>46</td>\n",
              "      <td>M</td>\n",
              "      <td>ASY</td>\n",
              "      <td>100</td>\n",
              "      <td>0</td>\n",
              "      <td>1</td>\n",
              "      <td>ST</td>\n",
              "      <td>133</td>\n",
              "      <td>N</td>\n",
              "      <td>-2.6</td>\n",
              "      <td>Flat</td>\n",
              "      <td>1</td>\n",
              "    </tr>\n",
              "  </tbody>\n",
              "</table>\n",
              "<p>178 rows × 13 columns</p>\n",
              "</div>\n",
              "      <button class=\"colab-df-convert\" onclick=\"convertToInteractive('df-022d48d2-a347-4dd5-8d43-4d74ddc2af49')\"\n",
              "              title=\"Convert this dataframe to an interactive table.\"\n",
              "              style=\"display:none;\">\n",
              "        \n",
              "  <svg xmlns=\"http://www.w3.org/2000/svg\" height=\"24px\"viewBox=\"0 0 24 24\"\n",
              "       width=\"24px\">\n",
              "    <path d=\"M0 0h24v24H0V0z\" fill=\"none\"/>\n",
              "    <path d=\"M18.56 5.44l.94 2.06.94-2.06 2.06-.94-2.06-.94-.94-2.06-.94 2.06-2.06.94zm-11 1L8.5 8.5l.94-2.06 2.06-.94-2.06-.94L8.5 2.5l-.94 2.06-2.06.94zm10 10l.94 2.06.94-2.06 2.06-.94-2.06-.94-.94-2.06-.94 2.06-2.06.94z\"/><path d=\"M17.41 7.96l-1.37-1.37c-.4-.4-.92-.59-1.43-.59-.52 0-1.04.2-1.43.59L10.3 9.45l-7.72 7.72c-.78.78-.78 2.05 0 2.83L4 21.41c.39.39.9.59 1.41.59.51 0 1.02-.2 1.41-.59l7.78-7.78 2.81-2.81c.8-.78.8-2.07 0-2.86zM5.41 20L4 18.59l7.72-7.72 1.47 1.35L5.41 20z\"/>\n",
              "  </svg>\n",
              "      </button>\n",
              "      \n",
              "  <style>\n",
              "    .colab-df-container {\n",
              "      display:flex;\n",
              "      flex-wrap:wrap;\n",
              "      gap: 12px;\n",
              "    }\n",
              "\n",
              "    .colab-df-convert {\n",
              "      background-color: #E8F0FE;\n",
              "      border: none;\n",
              "      border-radius: 50%;\n",
              "      cursor: pointer;\n",
              "      display: none;\n",
              "      fill: #1967D2;\n",
              "      height: 32px;\n",
              "      padding: 0 0 0 0;\n",
              "      width: 32px;\n",
              "    }\n",
              "\n",
              "    .colab-df-convert:hover {\n",
              "      background-color: #E2EBFA;\n",
              "      box-shadow: 0px 1px 2px rgba(60, 64, 67, 0.3), 0px 1px 3px 1px rgba(60, 64, 67, 0.15);\n",
              "      fill: #174EA6;\n",
              "    }\n",
              "\n",
              "    [theme=dark] .colab-df-convert {\n",
              "      background-color: #3B4455;\n",
              "      fill: #D2E3FC;\n",
              "    }\n",
              "\n",
              "    [theme=dark] .colab-df-convert:hover {\n",
              "      background-color: #434B5C;\n",
              "      box-shadow: 0px 1px 3px 1px rgba(0, 0, 0, 0.15);\n",
              "      filter: drop-shadow(0px 1px 2px rgba(0, 0, 0, 0.3));\n",
              "      fill: #FFFFFF;\n",
              "    }\n",
              "  </style>\n",
              "\n",
              "      <script>\n",
              "        const buttonEl =\n",
              "          document.querySelector('#df-022d48d2-a347-4dd5-8d43-4d74ddc2af49 button.colab-df-convert');\n",
              "        buttonEl.style.display =\n",
              "          google.colab.kernel.accessAllowed ? 'block' : 'none';\n",
              "\n",
              "        async function convertToInteractive(key) {\n",
              "          const element = document.querySelector('#df-022d48d2-a347-4dd5-8d43-4d74ddc2af49');\n",
              "          const dataTable =\n",
              "            await google.colab.kernel.invokeFunction('convertToInteractive',\n",
              "                                                     [key], {});\n",
              "          if (!dataTable) return;\n",
              "\n",
              "          const docLinkHtml = 'Like what you see? Visit the ' +\n",
              "            '<a target=\"_blank\" href=https://colab.research.google.com/notebooks/data_table.ipynb>data table notebook</a>'\n",
              "            + ' to learn more about interactive tables.';\n",
              "          element.innerHTML = '';\n",
              "          dataTable['output_type'] = 'display_data';\n",
              "          await google.colab.output.renderOutput(dataTable, element);\n",
              "          const docLink = document.createElement('div');\n",
              "          docLink.innerHTML = docLinkHtml;\n",
              "          element.appendChild(docLink);\n",
              "        }\n",
              "      </script>\n",
              "    </div>\n",
              "  </div>\n",
              "  "
            ]
          },
          "metadata": {},
          "execution_count": 16
        }
      ]
    },
    {
      "cell_type": "markdown",
      "source": [
        "Получившаяся таблица не дает наглядных закономерностей, но может быть использована для дальнешего анализа, например, выделение связи между результатом ЭКГ и типом боли или показателем холестерина."
      ],
      "metadata": {
        "id": "orXVbHmvbOyS"
      }
    },
    {
      "cell_type": "markdown",
      "source": [
        "В процессе выполнения работы была осуществлена предобработка набора данных о наличие сердечных заболеваний у людей и параметрах, связанных с этим. В ходе предобработки средствами библиотеки pandas для языка программирования Python в наборе данных были исправлены ошибки в названии столбцов методом rename, найдены нулевые значения методом isna и убраны методом dropna, также были найдены и убраны дубликаты методами duplicated и drop_duplicates, затем в столбцах с строковыми значениями были найдены скрытые дубликаты с помощью метода unique и исправлены методом replace, после методами to_numeric и astype данные в нескольких столбцах были приведены к нужному типу. В завершении работы были составлены три таблицы при помощи методов pivot_table, sort_values, groupby и get_group: сводная таблица среднего артериального давления в покое и средней максимальной достигнутой частоты сердечных сокращений для каждого пола, , показавшая отсутствие различия в среднем пульсе у мужчин и женщин, сводная таблица среднего холестерина для каждого типа боли, демонстрирующая возможную связь типа боли у больного и значения холестерина, сгруппированная таблица аномальной ST-T по результатам ЭКГ, которая не дала наглядных результатов, но может быть использована для дальнейшего анализа набора данных."
      ],
      "metadata": {
        "id": "bGj-NfMKGISr"
      }
    }
  ]
}